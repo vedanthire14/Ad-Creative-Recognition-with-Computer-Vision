{
  "nbformat": 4,
  "nbformat_minor": 0,
  "metadata": {
    "colab": {
      "provenance": []
    },
    "kernelspec": {
      "name": "python3",
      "display_name": "Python 3"
    },
    "language_info": {
      "name": "python"
    },
    "accelerator": "TPU",
    "widgets": {
      "application/vnd.jupyter.widget-state+json": {
        "3068bd0792a94e73b0e10435d58c5f46": {
          "model_module": "@jupyter-widgets/controls",
          "model_name": "HBoxModel",
          "model_module_version": "1.5.0",
          "state": {
            "_dom_classes": [],
            "_model_module": "@jupyter-widgets/controls",
            "_model_module_version": "1.5.0",
            "_model_name": "HBoxModel",
            "_view_count": null,
            "_view_module": "@jupyter-widgets/controls",
            "_view_module_version": "1.5.0",
            "_view_name": "HBoxView",
            "box_style": "",
            "children": [
              "IPY_MODEL_f1b4c6598f4e48dfa59fea6203c44a75",
              "IPY_MODEL_680752698de8487abb50d1c00c615888",
              "IPY_MODEL_f419052e26514963916db2185ba417a5"
            ],
            "layout": "IPY_MODEL_87a04b633f054057929d5df9fa9dc389"
          }
        },
        "f1b4c6598f4e48dfa59fea6203c44a75": {
          "model_module": "@jupyter-widgets/controls",
          "model_name": "HTMLModel",
          "model_module_version": "1.5.0",
          "state": {
            "_dom_classes": [],
            "_model_module": "@jupyter-widgets/controls",
            "_model_module_version": "1.5.0",
            "_model_name": "HTMLModel",
            "_view_count": null,
            "_view_module": "@jupyter-widgets/controls",
            "_view_module_version": "1.5.0",
            "_view_name": "HTMLView",
            "description": "",
            "description_tooltip": null,
            "layout": "IPY_MODEL_0ce1aa101a3c48ed89a93fbd78b48b55",
            "placeholder": "​",
            "style": "IPY_MODEL_4f56976c25d344d8a87bf1ca3c2ffc0b",
            "value": "config.json: 100%"
          }
        },
        "680752698de8487abb50d1c00c615888": {
          "model_module": "@jupyter-widgets/controls",
          "model_name": "FloatProgressModel",
          "model_module_version": "1.5.0",
          "state": {
            "_dom_classes": [],
            "_model_module": "@jupyter-widgets/controls",
            "_model_module_version": "1.5.0",
            "_model_name": "FloatProgressModel",
            "_view_count": null,
            "_view_module": "@jupyter-widgets/controls",
            "_view_module_version": "1.5.0",
            "_view_name": "ProgressView",
            "bar_style": "success",
            "description": "",
            "description_tooltip": null,
            "layout": "IPY_MODEL_b853e6117e25458a8d8e31adfdf89260",
            "max": 798,
            "min": 0,
            "orientation": "horizontal",
            "style": "IPY_MODEL_68315ad3d1304f429e66bf2b1f6dc6e2",
            "value": 798
          }
        },
        "f419052e26514963916db2185ba417a5": {
          "model_module": "@jupyter-widgets/controls",
          "model_name": "HTMLModel",
          "model_module_version": "1.5.0",
          "state": {
            "_dom_classes": [],
            "_model_module": "@jupyter-widgets/controls",
            "_model_module_version": "1.5.0",
            "_model_name": "HTMLModel",
            "_view_count": null,
            "_view_module": "@jupyter-widgets/controls",
            "_view_module_version": "1.5.0",
            "_view_name": "HTMLView",
            "description": "",
            "description_tooltip": null,
            "layout": "IPY_MODEL_3590cfa96a314b34814b4b8dc414b6aa",
            "placeholder": "​",
            "style": "IPY_MODEL_824aeabca4d141f0acda0ca93985dc9d",
            "value": " 798/798 [00:00&lt;00:00, 36.9kB/s]"
          }
        },
        "87a04b633f054057929d5df9fa9dc389": {
          "model_module": "@jupyter-widgets/base",
          "model_name": "LayoutModel",
          "model_module_version": "1.2.0",
          "state": {
            "_model_module": "@jupyter-widgets/base",
            "_model_module_version": "1.2.0",
            "_model_name": "LayoutModel",
            "_view_count": null,
            "_view_module": "@jupyter-widgets/base",
            "_view_module_version": "1.2.0",
            "_view_name": "LayoutView",
            "align_content": null,
            "align_items": null,
            "align_self": null,
            "border": null,
            "bottom": null,
            "display": null,
            "flex": null,
            "flex_flow": null,
            "grid_area": null,
            "grid_auto_columns": null,
            "grid_auto_flow": null,
            "grid_auto_rows": null,
            "grid_column": null,
            "grid_gap": null,
            "grid_row": null,
            "grid_template_areas": null,
            "grid_template_columns": null,
            "grid_template_rows": null,
            "height": null,
            "justify_content": null,
            "justify_items": null,
            "left": null,
            "margin": null,
            "max_height": null,
            "max_width": null,
            "min_height": null,
            "min_width": null,
            "object_fit": null,
            "object_position": null,
            "order": null,
            "overflow": null,
            "overflow_x": null,
            "overflow_y": null,
            "padding": null,
            "right": null,
            "top": null,
            "visibility": null,
            "width": null
          }
        },
        "0ce1aa101a3c48ed89a93fbd78b48b55": {
          "model_module": "@jupyter-widgets/base",
          "model_name": "LayoutModel",
          "model_module_version": "1.2.0",
          "state": {
            "_model_module": "@jupyter-widgets/base",
            "_model_module_version": "1.2.0",
            "_model_name": "LayoutModel",
            "_view_count": null,
            "_view_module": "@jupyter-widgets/base",
            "_view_module_version": "1.2.0",
            "_view_name": "LayoutView",
            "align_content": null,
            "align_items": null,
            "align_self": null,
            "border": null,
            "bottom": null,
            "display": null,
            "flex": null,
            "flex_flow": null,
            "grid_area": null,
            "grid_auto_columns": null,
            "grid_auto_flow": null,
            "grid_auto_rows": null,
            "grid_column": null,
            "grid_gap": null,
            "grid_row": null,
            "grid_template_areas": null,
            "grid_template_columns": null,
            "grid_template_rows": null,
            "height": null,
            "justify_content": null,
            "justify_items": null,
            "left": null,
            "margin": null,
            "max_height": null,
            "max_width": null,
            "min_height": null,
            "min_width": null,
            "object_fit": null,
            "object_position": null,
            "order": null,
            "overflow": null,
            "overflow_x": null,
            "overflow_y": null,
            "padding": null,
            "right": null,
            "top": null,
            "visibility": null,
            "width": null
          }
        },
        "4f56976c25d344d8a87bf1ca3c2ffc0b": {
          "model_module": "@jupyter-widgets/controls",
          "model_name": "DescriptionStyleModel",
          "model_module_version": "1.5.0",
          "state": {
            "_model_module": "@jupyter-widgets/controls",
            "_model_module_version": "1.5.0",
            "_model_name": "DescriptionStyleModel",
            "_view_count": null,
            "_view_module": "@jupyter-widgets/base",
            "_view_module_version": "1.2.0",
            "_view_name": "StyleView",
            "description_width": ""
          }
        },
        "b853e6117e25458a8d8e31adfdf89260": {
          "model_module": "@jupyter-widgets/base",
          "model_name": "LayoutModel",
          "model_module_version": "1.2.0",
          "state": {
            "_model_module": "@jupyter-widgets/base",
            "_model_module_version": "1.2.0",
            "_model_name": "LayoutModel",
            "_view_count": null,
            "_view_module": "@jupyter-widgets/base",
            "_view_module_version": "1.2.0",
            "_view_name": "LayoutView",
            "align_content": null,
            "align_items": null,
            "align_self": null,
            "border": null,
            "bottom": null,
            "display": null,
            "flex": null,
            "flex_flow": null,
            "grid_area": null,
            "grid_auto_columns": null,
            "grid_auto_flow": null,
            "grid_auto_rows": null,
            "grid_column": null,
            "grid_gap": null,
            "grid_row": null,
            "grid_template_areas": null,
            "grid_template_columns": null,
            "grid_template_rows": null,
            "height": null,
            "justify_content": null,
            "justify_items": null,
            "left": null,
            "margin": null,
            "max_height": null,
            "max_width": null,
            "min_height": null,
            "min_width": null,
            "object_fit": null,
            "object_position": null,
            "order": null,
            "overflow": null,
            "overflow_x": null,
            "overflow_y": null,
            "padding": null,
            "right": null,
            "top": null,
            "visibility": null,
            "width": null
          }
        },
        "68315ad3d1304f429e66bf2b1f6dc6e2": {
          "model_module": "@jupyter-widgets/controls",
          "model_name": "ProgressStyleModel",
          "model_module_version": "1.5.0",
          "state": {
            "_model_module": "@jupyter-widgets/controls",
            "_model_module_version": "1.5.0",
            "_model_name": "ProgressStyleModel",
            "_view_count": null,
            "_view_module": "@jupyter-widgets/base",
            "_view_module_version": "1.2.0",
            "_view_name": "StyleView",
            "bar_color": null,
            "description_width": ""
          }
        },
        "3590cfa96a314b34814b4b8dc414b6aa": {
          "model_module": "@jupyter-widgets/base",
          "model_name": "LayoutModel",
          "model_module_version": "1.2.0",
          "state": {
            "_model_module": "@jupyter-widgets/base",
            "_model_module_version": "1.2.0",
            "_model_name": "LayoutModel",
            "_view_count": null,
            "_view_module": "@jupyter-widgets/base",
            "_view_module_version": "1.2.0",
            "_view_name": "LayoutView",
            "align_content": null,
            "align_items": null,
            "align_self": null,
            "border": null,
            "bottom": null,
            "display": null,
            "flex": null,
            "flex_flow": null,
            "grid_area": null,
            "grid_auto_columns": null,
            "grid_auto_flow": null,
            "grid_auto_rows": null,
            "grid_column": null,
            "grid_gap": null,
            "grid_row": null,
            "grid_template_areas": null,
            "grid_template_columns": null,
            "grid_template_rows": null,
            "height": null,
            "justify_content": null,
            "justify_items": null,
            "left": null,
            "margin": null,
            "max_height": null,
            "max_width": null,
            "min_height": null,
            "min_width": null,
            "object_fit": null,
            "object_position": null,
            "order": null,
            "overflow": null,
            "overflow_x": null,
            "overflow_y": null,
            "padding": null,
            "right": null,
            "top": null,
            "visibility": null,
            "width": null
          }
        },
        "824aeabca4d141f0acda0ca93985dc9d": {
          "model_module": "@jupyter-widgets/controls",
          "model_name": "DescriptionStyleModel",
          "model_module_version": "1.5.0",
          "state": {
            "_model_module": "@jupyter-widgets/controls",
            "_model_module_version": "1.5.0",
            "_model_name": "DescriptionStyleModel",
            "_view_count": null,
            "_view_module": "@jupyter-widgets/base",
            "_view_module_version": "1.2.0",
            "_view_name": "StyleView",
            "description_width": ""
          }
        },
        "b17fab30fd574514b30c5b2f9b983bdd": {
          "model_module": "@jupyter-widgets/controls",
          "model_name": "HBoxModel",
          "model_module_version": "1.5.0",
          "state": {
            "_dom_classes": [],
            "_model_module": "@jupyter-widgets/controls",
            "_model_module_version": "1.5.0",
            "_model_name": "HBoxModel",
            "_view_count": null,
            "_view_module": "@jupyter-widgets/controls",
            "_view_module_version": "1.5.0",
            "_view_name": "HBoxView",
            "box_style": "",
            "children": [
              "IPY_MODEL_ff42db2e708d401c9e9688e2ccd8210a",
              "IPY_MODEL_409fc93e7d6b40d7bf55dc1c5ac67724",
              "IPY_MODEL_d8bca29829bc44a888282ba7460c4141"
            ],
            "layout": "IPY_MODEL_e50d8e4cc5f7411497e04dd2e5dd5d09"
          }
        },
        "ff42db2e708d401c9e9688e2ccd8210a": {
          "model_module": "@jupyter-widgets/controls",
          "model_name": "HTMLModel",
          "model_module_version": "1.5.0",
          "state": {
            "_dom_classes": [],
            "_model_module": "@jupyter-widgets/controls",
            "_model_module_version": "1.5.0",
            "_model_name": "HTMLModel",
            "_view_count": null,
            "_view_module": "@jupyter-widgets/controls",
            "_view_module_version": "1.5.0",
            "_view_name": "HTMLView",
            "description": "",
            "description_tooltip": null,
            "layout": "IPY_MODEL_8c1a11dbe9f542dd924906778ae49f38",
            "placeholder": "​",
            "style": "IPY_MODEL_1c23c8d6ddf143c9a1acc23e9a814030",
            "value": "tf_model.h5: 100%"
          }
        },
        "409fc93e7d6b40d7bf55dc1c5ac67724": {
          "model_module": "@jupyter-widgets/controls",
          "model_name": "FloatProgressModel",
          "model_module_version": "1.5.0",
          "state": {
            "_dom_classes": [],
            "_model_module": "@jupyter-widgets/controls",
            "_model_module_version": "1.5.0",
            "_model_name": "FloatProgressModel",
            "_view_count": null,
            "_view_module": "@jupyter-widgets/controls",
            "_view_module_version": "1.5.0",
            "_view_name": "ProgressView",
            "bar_style": "success",
            "description": "",
            "description_tooltip": null,
            "layout": "IPY_MODEL_d756033bf3cf4a148bc88af50428a3e6",
            "max": 438223192,
            "min": 0,
            "orientation": "horizontal",
            "style": "IPY_MODEL_f86dfe44d4c24b209912c3875ba9d3ee",
            "value": 438223192
          }
        },
        "d8bca29829bc44a888282ba7460c4141": {
          "model_module": "@jupyter-widgets/controls",
          "model_name": "HTMLModel",
          "model_module_version": "1.5.0",
          "state": {
            "_dom_classes": [],
            "_model_module": "@jupyter-widgets/controls",
            "_model_module_version": "1.5.0",
            "_model_name": "HTMLModel",
            "_view_count": null,
            "_view_module": "@jupyter-widgets/controls",
            "_view_module_version": "1.5.0",
            "_view_name": "HTMLView",
            "description": "",
            "description_tooltip": null,
            "layout": "IPY_MODEL_bc5e0955d88d4236a6d336866af1e0d9",
            "placeholder": "​",
            "style": "IPY_MODEL_73be885a00c644d0803bd8a169194c02",
            "value": " 438M/438M [00:23&lt;00:00, 20.6MB/s]"
          }
        },
        "e50d8e4cc5f7411497e04dd2e5dd5d09": {
          "model_module": "@jupyter-widgets/base",
          "model_name": "LayoutModel",
          "model_module_version": "1.2.0",
          "state": {
            "_model_module": "@jupyter-widgets/base",
            "_model_module_version": "1.2.0",
            "_model_name": "LayoutModel",
            "_view_count": null,
            "_view_module": "@jupyter-widgets/base",
            "_view_module_version": "1.2.0",
            "_view_name": "LayoutView",
            "align_content": null,
            "align_items": null,
            "align_self": null,
            "border": null,
            "bottom": null,
            "display": null,
            "flex": null,
            "flex_flow": null,
            "grid_area": null,
            "grid_auto_columns": null,
            "grid_auto_flow": null,
            "grid_auto_rows": null,
            "grid_column": null,
            "grid_gap": null,
            "grid_row": null,
            "grid_template_areas": null,
            "grid_template_columns": null,
            "grid_template_rows": null,
            "height": null,
            "justify_content": null,
            "justify_items": null,
            "left": null,
            "margin": null,
            "max_height": null,
            "max_width": null,
            "min_height": null,
            "min_width": null,
            "object_fit": null,
            "object_position": null,
            "order": null,
            "overflow": null,
            "overflow_x": null,
            "overflow_y": null,
            "padding": null,
            "right": null,
            "top": null,
            "visibility": null,
            "width": null
          }
        },
        "8c1a11dbe9f542dd924906778ae49f38": {
          "model_module": "@jupyter-widgets/base",
          "model_name": "LayoutModel",
          "model_module_version": "1.2.0",
          "state": {
            "_model_module": "@jupyter-widgets/base",
            "_model_module_version": "1.2.0",
            "_model_name": "LayoutModel",
            "_view_count": null,
            "_view_module": "@jupyter-widgets/base",
            "_view_module_version": "1.2.0",
            "_view_name": "LayoutView",
            "align_content": null,
            "align_items": null,
            "align_self": null,
            "border": null,
            "bottom": null,
            "display": null,
            "flex": null,
            "flex_flow": null,
            "grid_area": null,
            "grid_auto_columns": null,
            "grid_auto_flow": null,
            "grid_auto_rows": null,
            "grid_column": null,
            "grid_gap": null,
            "grid_row": null,
            "grid_template_areas": null,
            "grid_template_columns": null,
            "grid_template_rows": null,
            "height": null,
            "justify_content": null,
            "justify_items": null,
            "left": null,
            "margin": null,
            "max_height": null,
            "max_width": null,
            "min_height": null,
            "min_width": null,
            "object_fit": null,
            "object_position": null,
            "order": null,
            "overflow": null,
            "overflow_x": null,
            "overflow_y": null,
            "padding": null,
            "right": null,
            "top": null,
            "visibility": null,
            "width": null
          }
        },
        "1c23c8d6ddf143c9a1acc23e9a814030": {
          "model_module": "@jupyter-widgets/controls",
          "model_name": "DescriptionStyleModel",
          "model_module_version": "1.5.0",
          "state": {
            "_model_module": "@jupyter-widgets/controls",
            "_model_module_version": "1.5.0",
            "_model_name": "DescriptionStyleModel",
            "_view_count": null,
            "_view_module": "@jupyter-widgets/base",
            "_view_module_version": "1.2.0",
            "_view_name": "StyleView",
            "description_width": ""
          }
        },
        "d756033bf3cf4a148bc88af50428a3e6": {
          "model_module": "@jupyter-widgets/base",
          "model_name": "LayoutModel",
          "model_module_version": "1.2.0",
          "state": {
            "_model_module": "@jupyter-widgets/base",
            "_model_module_version": "1.2.0",
            "_model_name": "LayoutModel",
            "_view_count": null,
            "_view_module": "@jupyter-widgets/base",
            "_view_module_version": "1.2.0",
            "_view_name": "LayoutView",
            "align_content": null,
            "align_items": null,
            "align_self": null,
            "border": null,
            "bottom": null,
            "display": null,
            "flex": null,
            "flex_flow": null,
            "grid_area": null,
            "grid_auto_columns": null,
            "grid_auto_flow": null,
            "grid_auto_rows": null,
            "grid_column": null,
            "grid_gap": null,
            "grid_row": null,
            "grid_template_areas": null,
            "grid_template_columns": null,
            "grid_template_rows": null,
            "height": null,
            "justify_content": null,
            "justify_items": null,
            "left": null,
            "margin": null,
            "max_height": null,
            "max_width": null,
            "min_height": null,
            "min_width": null,
            "object_fit": null,
            "object_position": null,
            "order": null,
            "overflow": null,
            "overflow_x": null,
            "overflow_y": null,
            "padding": null,
            "right": null,
            "top": null,
            "visibility": null,
            "width": null
          }
        },
        "f86dfe44d4c24b209912c3875ba9d3ee": {
          "model_module": "@jupyter-widgets/controls",
          "model_name": "ProgressStyleModel",
          "model_module_version": "1.5.0",
          "state": {
            "_model_module": "@jupyter-widgets/controls",
            "_model_module_version": "1.5.0",
            "_model_name": "ProgressStyleModel",
            "_view_count": null,
            "_view_module": "@jupyter-widgets/base",
            "_view_module_version": "1.2.0",
            "_view_name": "StyleView",
            "bar_color": null,
            "description_width": ""
          }
        },
        "bc5e0955d88d4236a6d336866af1e0d9": {
          "model_module": "@jupyter-widgets/base",
          "model_name": "LayoutModel",
          "model_module_version": "1.2.0",
          "state": {
            "_model_module": "@jupyter-widgets/base",
            "_model_module_version": "1.2.0",
            "_model_name": "LayoutModel",
            "_view_count": null,
            "_view_module": "@jupyter-widgets/base",
            "_view_module_version": "1.2.0",
            "_view_name": "LayoutView",
            "align_content": null,
            "align_items": null,
            "align_self": null,
            "border": null,
            "bottom": null,
            "display": null,
            "flex": null,
            "flex_flow": null,
            "grid_area": null,
            "grid_auto_columns": null,
            "grid_auto_flow": null,
            "grid_auto_rows": null,
            "grid_column": null,
            "grid_gap": null,
            "grid_row": null,
            "grid_template_areas": null,
            "grid_template_columns": null,
            "grid_template_rows": null,
            "height": null,
            "justify_content": null,
            "justify_items": null,
            "left": null,
            "margin": null,
            "max_height": null,
            "max_width": null,
            "min_height": null,
            "min_width": null,
            "object_fit": null,
            "object_position": null,
            "order": null,
            "overflow": null,
            "overflow_x": null,
            "overflow_y": null,
            "padding": null,
            "right": null,
            "top": null,
            "visibility": null,
            "width": null
          }
        },
        "73be885a00c644d0803bd8a169194c02": {
          "model_module": "@jupyter-widgets/controls",
          "model_name": "DescriptionStyleModel",
          "model_module_version": "1.5.0",
          "state": {
            "_model_module": "@jupyter-widgets/controls",
            "_model_module_version": "1.5.0",
            "_model_name": "DescriptionStyleModel",
            "_view_count": null,
            "_view_module": "@jupyter-widgets/base",
            "_view_module_version": "1.2.0",
            "_view_name": "StyleView",
            "description_width": ""
          }
        },
        "92da2b5bc8b0464c9d1e9b51cc445f28": {
          "model_module": "@jupyter-widgets/controls",
          "model_name": "HBoxModel",
          "model_module_version": "1.5.0",
          "state": {
            "_dom_classes": [],
            "_model_module": "@jupyter-widgets/controls",
            "_model_module_version": "1.5.0",
            "_model_name": "HBoxModel",
            "_view_count": null,
            "_view_module": "@jupyter-widgets/controls",
            "_view_module_version": "1.5.0",
            "_view_name": "HBoxView",
            "box_style": "",
            "children": [
              "IPY_MODEL_fb3edfcf40034070968ad7c16ea5c6f4",
              "IPY_MODEL_349215b84a064a7b8e0596bcd4eccf0e",
              "IPY_MODEL_7f4e2d691fd74365822e66b1b0edb4d5"
            ],
            "layout": "IPY_MODEL_3af5197c3d244fb4a81e5c9019fea314"
          }
        },
        "fb3edfcf40034070968ad7c16ea5c6f4": {
          "model_module": "@jupyter-widgets/controls",
          "model_name": "HTMLModel",
          "model_module_version": "1.5.0",
          "state": {
            "_dom_classes": [],
            "_model_module": "@jupyter-widgets/controls",
            "_model_module_version": "1.5.0",
            "_model_name": "HTMLModel",
            "_view_count": null,
            "_view_module": "@jupyter-widgets/controls",
            "_view_module_version": "1.5.0",
            "_view_name": "HTMLView",
            "description": "",
            "description_tooltip": null,
            "layout": "IPY_MODEL_5abc5c5d62ae46bf825ee26495f64133",
            "placeholder": "​",
            "style": "IPY_MODEL_6d5f511922054a3dad84ba6d7dda5fd1",
            "value": "tokenizer_config.json: 100%"
          }
        },
        "349215b84a064a7b8e0596bcd4eccf0e": {
          "model_module": "@jupyter-widgets/controls",
          "model_name": "FloatProgressModel",
          "model_module_version": "1.5.0",
          "state": {
            "_dom_classes": [],
            "_model_module": "@jupyter-widgets/controls",
            "_model_module_version": "1.5.0",
            "_model_name": "FloatProgressModel",
            "_view_count": null,
            "_view_module": "@jupyter-widgets/controls",
            "_view_module_version": "1.5.0",
            "_view_name": "ProgressView",
            "bar_style": "success",
            "description": "",
            "description_tooltip": null,
            "layout": "IPY_MODEL_b9b126e700244d7e8960832759e7d031",
            "max": 400,
            "min": 0,
            "orientation": "horizontal",
            "style": "IPY_MODEL_843e7c1525fb43ff875ffb5110d73e5f",
            "value": 400
          }
        },
        "7f4e2d691fd74365822e66b1b0edb4d5": {
          "model_module": "@jupyter-widgets/controls",
          "model_name": "HTMLModel",
          "model_module_version": "1.5.0",
          "state": {
            "_dom_classes": [],
            "_model_module": "@jupyter-widgets/controls",
            "_model_module_version": "1.5.0",
            "_model_name": "HTMLModel",
            "_view_count": null,
            "_view_module": "@jupyter-widgets/controls",
            "_view_module_version": "1.5.0",
            "_view_name": "HTMLView",
            "description": "",
            "description_tooltip": null,
            "layout": "IPY_MODEL_94c32e7de6cb4f6b92507ff10d27aed0",
            "placeholder": "​",
            "style": "IPY_MODEL_f3610241999f447d8c3515982046b41b",
            "value": " 400/400 [00:00&lt;00:00, 23.1kB/s]"
          }
        },
        "3af5197c3d244fb4a81e5c9019fea314": {
          "model_module": "@jupyter-widgets/base",
          "model_name": "LayoutModel",
          "model_module_version": "1.2.0",
          "state": {
            "_model_module": "@jupyter-widgets/base",
            "_model_module_version": "1.2.0",
            "_model_name": "LayoutModel",
            "_view_count": null,
            "_view_module": "@jupyter-widgets/base",
            "_view_module_version": "1.2.0",
            "_view_name": "LayoutView",
            "align_content": null,
            "align_items": null,
            "align_self": null,
            "border": null,
            "bottom": null,
            "display": null,
            "flex": null,
            "flex_flow": null,
            "grid_area": null,
            "grid_auto_columns": null,
            "grid_auto_flow": null,
            "grid_auto_rows": null,
            "grid_column": null,
            "grid_gap": null,
            "grid_row": null,
            "grid_template_areas": null,
            "grid_template_columns": null,
            "grid_template_rows": null,
            "height": null,
            "justify_content": null,
            "justify_items": null,
            "left": null,
            "margin": null,
            "max_height": null,
            "max_width": null,
            "min_height": null,
            "min_width": null,
            "object_fit": null,
            "object_position": null,
            "order": null,
            "overflow": null,
            "overflow_x": null,
            "overflow_y": null,
            "padding": null,
            "right": null,
            "top": null,
            "visibility": null,
            "width": null
          }
        },
        "5abc5c5d62ae46bf825ee26495f64133": {
          "model_module": "@jupyter-widgets/base",
          "model_name": "LayoutModel",
          "model_module_version": "1.2.0",
          "state": {
            "_model_module": "@jupyter-widgets/base",
            "_model_module_version": "1.2.0",
            "_model_name": "LayoutModel",
            "_view_count": null,
            "_view_module": "@jupyter-widgets/base",
            "_view_module_version": "1.2.0",
            "_view_name": "LayoutView",
            "align_content": null,
            "align_items": null,
            "align_self": null,
            "border": null,
            "bottom": null,
            "display": null,
            "flex": null,
            "flex_flow": null,
            "grid_area": null,
            "grid_auto_columns": null,
            "grid_auto_flow": null,
            "grid_auto_rows": null,
            "grid_column": null,
            "grid_gap": null,
            "grid_row": null,
            "grid_template_areas": null,
            "grid_template_columns": null,
            "grid_template_rows": null,
            "height": null,
            "justify_content": null,
            "justify_items": null,
            "left": null,
            "margin": null,
            "max_height": null,
            "max_width": null,
            "min_height": null,
            "min_width": null,
            "object_fit": null,
            "object_position": null,
            "order": null,
            "overflow": null,
            "overflow_x": null,
            "overflow_y": null,
            "padding": null,
            "right": null,
            "top": null,
            "visibility": null,
            "width": null
          }
        },
        "6d5f511922054a3dad84ba6d7dda5fd1": {
          "model_module": "@jupyter-widgets/controls",
          "model_name": "DescriptionStyleModel",
          "model_module_version": "1.5.0",
          "state": {
            "_model_module": "@jupyter-widgets/controls",
            "_model_module_version": "1.5.0",
            "_model_name": "DescriptionStyleModel",
            "_view_count": null,
            "_view_module": "@jupyter-widgets/base",
            "_view_module_version": "1.2.0",
            "_view_name": "StyleView",
            "description_width": ""
          }
        },
        "b9b126e700244d7e8960832759e7d031": {
          "model_module": "@jupyter-widgets/base",
          "model_name": "LayoutModel",
          "model_module_version": "1.2.0",
          "state": {
            "_model_module": "@jupyter-widgets/base",
            "_model_module_version": "1.2.0",
            "_model_name": "LayoutModel",
            "_view_count": null,
            "_view_module": "@jupyter-widgets/base",
            "_view_module_version": "1.2.0",
            "_view_name": "LayoutView",
            "align_content": null,
            "align_items": null,
            "align_self": null,
            "border": null,
            "bottom": null,
            "display": null,
            "flex": null,
            "flex_flow": null,
            "grid_area": null,
            "grid_auto_columns": null,
            "grid_auto_flow": null,
            "grid_auto_rows": null,
            "grid_column": null,
            "grid_gap": null,
            "grid_row": null,
            "grid_template_areas": null,
            "grid_template_columns": null,
            "grid_template_rows": null,
            "height": null,
            "justify_content": null,
            "justify_items": null,
            "left": null,
            "margin": null,
            "max_height": null,
            "max_width": null,
            "min_height": null,
            "min_width": null,
            "object_fit": null,
            "object_position": null,
            "order": null,
            "overflow": null,
            "overflow_x": null,
            "overflow_y": null,
            "padding": null,
            "right": null,
            "top": null,
            "visibility": null,
            "width": null
          }
        },
        "843e7c1525fb43ff875ffb5110d73e5f": {
          "model_module": "@jupyter-widgets/controls",
          "model_name": "ProgressStyleModel",
          "model_module_version": "1.5.0",
          "state": {
            "_model_module": "@jupyter-widgets/controls",
            "_model_module_version": "1.5.0",
            "_model_name": "ProgressStyleModel",
            "_view_count": null,
            "_view_module": "@jupyter-widgets/base",
            "_view_module_version": "1.2.0",
            "_view_name": "StyleView",
            "bar_color": null,
            "description_width": ""
          }
        },
        "94c32e7de6cb4f6b92507ff10d27aed0": {
          "model_module": "@jupyter-widgets/base",
          "model_name": "LayoutModel",
          "model_module_version": "1.2.0",
          "state": {
            "_model_module": "@jupyter-widgets/base",
            "_model_module_version": "1.2.0",
            "_model_name": "LayoutModel",
            "_view_count": null,
            "_view_module": "@jupyter-widgets/base",
            "_view_module_version": "1.2.0",
            "_view_name": "LayoutView",
            "align_content": null,
            "align_items": null,
            "align_self": null,
            "border": null,
            "bottom": null,
            "display": null,
            "flex": null,
            "flex_flow": null,
            "grid_area": null,
            "grid_auto_columns": null,
            "grid_auto_flow": null,
            "grid_auto_rows": null,
            "grid_column": null,
            "grid_gap": null,
            "grid_row": null,
            "grid_template_areas": null,
            "grid_template_columns": null,
            "grid_template_rows": null,
            "height": null,
            "justify_content": null,
            "justify_items": null,
            "left": null,
            "margin": null,
            "max_height": null,
            "max_width": null,
            "min_height": null,
            "min_width": null,
            "object_fit": null,
            "object_position": null,
            "order": null,
            "overflow": null,
            "overflow_x": null,
            "overflow_y": null,
            "padding": null,
            "right": null,
            "top": null,
            "visibility": null,
            "width": null
          }
        },
        "f3610241999f447d8c3515982046b41b": {
          "model_module": "@jupyter-widgets/controls",
          "model_name": "DescriptionStyleModel",
          "model_module_version": "1.5.0",
          "state": {
            "_model_module": "@jupyter-widgets/controls",
            "_model_module_version": "1.5.0",
            "_model_name": "DescriptionStyleModel",
            "_view_count": null,
            "_view_module": "@jupyter-widgets/base",
            "_view_module_version": "1.2.0",
            "_view_name": "StyleView",
            "description_width": ""
          }
        },
        "22d1c991a7a24deeb9d204a3be4080be": {
          "model_module": "@jupyter-widgets/controls",
          "model_name": "HBoxModel",
          "model_module_version": "1.5.0",
          "state": {
            "_dom_classes": [],
            "_model_module": "@jupyter-widgets/controls",
            "_model_module_version": "1.5.0",
            "_model_name": "HBoxModel",
            "_view_count": null,
            "_view_module": "@jupyter-widgets/controls",
            "_view_module_version": "1.5.0",
            "_view_name": "HBoxView",
            "box_style": "",
            "children": [
              "IPY_MODEL_6832b37da1894d89bd76d1a1d69b5224",
              "IPY_MODEL_0d21d1bc17f5482ea79f8eb816559ca3",
              "IPY_MODEL_b32398e749b747949805e759074bedd1"
            ],
            "layout": "IPY_MODEL_f33cf0e1756047eaa24c02ea704ef85b"
          }
        },
        "6832b37da1894d89bd76d1a1d69b5224": {
          "model_module": "@jupyter-widgets/controls",
          "model_name": "HTMLModel",
          "model_module_version": "1.5.0",
          "state": {
            "_dom_classes": [],
            "_model_module": "@jupyter-widgets/controls",
            "_model_module_version": "1.5.0",
            "_model_name": "HTMLModel",
            "_view_count": null,
            "_view_module": "@jupyter-widgets/controls",
            "_view_module_version": "1.5.0",
            "_view_name": "HTMLView",
            "description": "",
            "description_tooltip": null,
            "layout": "IPY_MODEL_cf85c49e086f4f8b9a8b6d235253f022",
            "placeholder": "​",
            "style": "IPY_MODEL_72e795bf57ae4f089d0dc1ee38d6d24a",
            "value": "vocab.txt: 100%"
          }
        },
        "0d21d1bc17f5482ea79f8eb816559ca3": {
          "model_module": "@jupyter-widgets/controls",
          "model_name": "FloatProgressModel",
          "model_module_version": "1.5.0",
          "state": {
            "_dom_classes": [],
            "_model_module": "@jupyter-widgets/controls",
            "_model_module_version": "1.5.0",
            "_model_name": "FloatProgressModel",
            "_view_count": null,
            "_view_module": "@jupyter-widgets/controls",
            "_view_module_version": "1.5.0",
            "_view_name": "ProgressView",
            "bar_style": "success",
            "description": "",
            "description_tooltip": null,
            "layout": "IPY_MODEL_07d98e9104aa455e893fc0aa37aed127",
            "max": 231508,
            "min": 0,
            "orientation": "horizontal",
            "style": "IPY_MODEL_c9aee75a7f9344d3afa1f228f4d12deb",
            "value": 231508
          }
        },
        "b32398e749b747949805e759074bedd1": {
          "model_module": "@jupyter-widgets/controls",
          "model_name": "HTMLModel",
          "model_module_version": "1.5.0",
          "state": {
            "_dom_classes": [],
            "_model_module": "@jupyter-widgets/controls",
            "_model_module_version": "1.5.0",
            "_model_name": "HTMLModel",
            "_view_count": null,
            "_view_module": "@jupyter-widgets/controls",
            "_view_module_version": "1.5.0",
            "_view_name": "HTMLView",
            "description": "",
            "description_tooltip": null,
            "layout": "IPY_MODEL_d12b096954174cc38b224c8e83e3ee7a",
            "placeholder": "​",
            "style": "IPY_MODEL_a21cbc73c4874642b9e3055083d8138e",
            "value": " 232k/232k [00:00&lt;00:00, 583kB/s]"
          }
        },
        "f33cf0e1756047eaa24c02ea704ef85b": {
          "model_module": "@jupyter-widgets/base",
          "model_name": "LayoutModel",
          "model_module_version": "1.2.0",
          "state": {
            "_model_module": "@jupyter-widgets/base",
            "_model_module_version": "1.2.0",
            "_model_name": "LayoutModel",
            "_view_count": null,
            "_view_module": "@jupyter-widgets/base",
            "_view_module_version": "1.2.0",
            "_view_name": "LayoutView",
            "align_content": null,
            "align_items": null,
            "align_self": null,
            "border": null,
            "bottom": null,
            "display": null,
            "flex": null,
            "flex_flow": null,
            "grid_area": null,
            "grid_auto_columns": null,
            "grid_auto_flow": null,
            "grid_auto_rows": null,
            "grid_column": null,
            "grid_gap": null,
            "grid_row": null,
            "grid_template_areas": null,
            "grid_template_columns": null,
            "grid_template_rows": null,
            "height": null,
            "justify_content": null,
            "justify_items": null,
            "left": null,
            "margin": null,
            "max_height": null,
            "max_width": null,
            "min_height": null,
            "min_width": null,
            "object_fit": null,
            "object_position": null,
            "order": null,
            "overflow": null,
            "overflow_x": null,
            "overflow_y": null,
            "padding": null,
            "right": null,
            "top": null,
            "visibility": null,
            "width": null
          }
        },
        "cf85c49e086f4f8b9a8b6d235253f022": {
          "model_module": "@jupyter-widgets/base",
          "model_name": "LayoutModel",
          "model_module_version": "1.2.0",
          "state": {
            "_model_module": "@jupyter-widgets/base",
            "_model_module_version": "1.2.0",
            "_model_name": "LayoutModel",
            "_view_count": null,
            "_view_module": "@jupyter-widgets/base",
            "_view_module_version": "1.2.0",
            "_view_name": "LayoutView",
            "align_content": null,
            "align_items": null,
            "align_self": null,
            "border": null,
            "bottom": null,
            "display": null,
            "flex": null,
            "flex_flow": null,
            "grid_area": null,
            "grid_auto_columns": null,
            "grid_auto_flow": null,
            "grid_auto_rows": null,
            "grid_column": null,
            "grid_gap": null,
            "grid_row": null,
            "grid_template_areas": null,
            "grid_template_columns": null,
            "grid_template_rows": null,
            "height": null,
            "justify_content": null,
            "justify_items": null,
            "left": null,
            "margin": null,
            "max_height": null,
            "max_width": null,
            "min_height": null,
            "min_width": null,
            "object_fit": null,
            "object_position": null,
            "order": null,
            "overflow": null,
            "overflow_x": null,
            "overflow_y": null,
            "padding": null,
            "right": null,
            "top": null,
            "visibility": null,
            "width": null
          }
        },
        "72e795bf57ae4f089d0dc1ee38d6d24a": {
          "model_module": "@jupyter-widgets/controls",
          "model_name": "DescriptionStyleModel",
          "model_module_version": "1.5.0",
          "state": {
            "_model_module": "@jupyter-widgets/controls",
            "_model_module_version": "1.5.0",
            "_model_name": "DescriptionStyleModel",
            "_view_count": null,
            "_view_module": "@jupyter-widgets/base",
            "_view_module_version": "1.2.0",
            "_view_name": "StyleView",
            "description_width": ""
          }
        },
        "07d98e9104aa455e893fc0aa37aed127": {
          "model_module": "@jupyter-widgets/base",
          "model_name": "LayoutModel",
          "model_module_version": "1.2.0",
          "state": {
            "_model_module": "@jupyter-widgets/base",
            "_model_module_version": "1.2.0",
            "_model_name": "LayoutModel",
            "_view_count": null,
            "_view_module": "@jupyter-widgets/base",
            "_view_module_version": "1.2.0",
            "_view_name": "LayoutView",
            "align_content": null,
            "align_items": null,
            "align_self": null,
            "border": null,
            "bottom": null,
            "display": null,
            "flex": null,
            "flex_flow": null,
            "grid_area": null,
            "grid_auto_columns": null,
            "grid_auto_flow": null,
            "grid_auto_rows": null,
            "grid_column": null,
            "grid_gap": null,
            "grid_row": null,
            "grid_template_areas": null,
            "grid_template_columns": null,
            "grid_template_rows": null,
            "height": null,
            "justify_content": null,
            "justify_items": null,
            "left": null,
            "margin": null,
            "max_height": null,
            "max_width": null,
            "min_height": null,
            "min_width": null,
            "object_fit": null,
            "object_position": null,
            "order": null,
            "overflow": null,
            "overflow_x": null,
            "overflow_y": null,
            "padding": null,
            "right": null,
            "top": null,
            "visibility": null,
            "width": null
          }
        },
        "c9aee75a7f9344d3afa1f228f4d12deb": {
          "model_module": "@jupyter-widgets/controls",
          "model_name": "ProgressStyleModel",
          "model_module_version": "1.5.0",
          "state": {
            "_model_module": "@jupyter-widgets/controls",
            "_model_module_version": "1.5.0",
            "_model_name": "ProgressStyleModel",
            "_view_count": null,
            "_view_module": "@jupyter-widgets/base",
            "_view_module_version": "1.2.0",
            "_view_name": "StyleView",
            "bar_color": null,
            "description_width": ""
          }
        },
        "d12b096954174cc38b224c8e83e3ee7a": {
          "model_module": "@jupyter-widgets/base",
          "model_name": "LayoutModel",
          "model_module_version": "1.2.0",
          "state": {
            "_model_module": "@jupyter-widgets/base",
            "_model_module_version": "1.2.0",
            "_model_name": "LayoutModel",
            "_view_count": null,
            "_view_module": "@jupyter-widgets/base",
            "_view_module_version": "1.2.0",
            "_view_name": "LayoutView",
            "align_content": null,
            "align_items": null,
            "align_self": null,
            "border": null,
            "bottom": null,
            "display": null,
            "flex": null,
            "flex_flow": null,
            "grid_area": null,
            "grid_auto_columns": null,
            "grid_auto_flow": null,
            "grid_auto_rows": null,
            "grid_column": null,
            "grid_gap": null,
            "grid_row": null,
            "grid_template_areas": null,
            "grid_template_columns": null,
            "grid_template_rows": null,
            "height": null,
            "justify_content": null,
            "justify_items": null,
            "left": null,
            "margin": null,
            "max_height": null,
            "max_width": null,
            "min_height": null,
            "min_width": null,
            "object_fit": null,
            "object_position": null,
            "order": null,
            "overflow": null,
            "overflow_x": null,
            "overflow_y": null,
            "padding": null,
            "right": null,
            "top": null,
            "visibility": null,
            "width": null
          }
        },
        "a21cbc73c4874642b9e3055083d8138e": {
          "model_module": "@jupyter-widgets/controls",
          "model_name": "DescriptionStyleModel",
          "model_module_version": "1.5.0",
          "state": {
            "_model_module": "@jupyter-widgets/controls",
            "_model_module_version": "1.5.0",
            "_model_name": "DescriptionStyleModel",
            "_view_count": null,
            "_view_module": "@jupyter-widgets/base",
            "_view_module_version": "1.2.0",
            "_view_name": "StyleView",
            "description_width": ""
          }
        },
        "1ad5d22aaff447f3b8fda507d8151208": {
          "model_module": "@jupyter-widgets/controls",
          "model_name": "HBoxModel",
          "model_module_version": "1.5.0",
          "state": {
            "_dom_classes": [],
            "_model_module": "@jupyter-widgets/controls",
            "_model_module_version": "1.5.0",
            "_model_name": "HBoxModel",
            "_view_count": null,
            "_view_module": "@jupyter-widgets/controls",
            "_view_module_version": "1.5.0",
            "_view_name": "HBoxView",
            "box_style": "",
            "children": [
              "IPY_MODEL_9edef3c5099049bdb82840c45fa64095",
              "IPY_MODEL_683405e75eef4ab7a7c858104de81f3c",
              "IPY_MODEL_3be962db05d2468b86bcf68b71387292"
            ],
            "layout": "IPY_MODEL_85d7d5af6852489d882c7fb9efbb6bfb"
          }
        },
        "9edef3c5099049bdb82840c45fa64095": {
          "model_module": "@jupyter-widgets/controls",
          "model_name": "HTMLModel",
          "model_module_version": "1.5.0",
          "state": {
            "_dom_classes": [],
            "_model_module": "@jupyter-widgets/controls",
            "_model_module_version": "1.5.0",
            "_model_name": "HTMLModel",
            "_view_count": null,
            "_view_module": "@jupyter-widgets/controls",
            "_view_module_version": "1.5.0",
            "_view_name": "HTMLView",
            "description": "",
            "description_tooltip": null,
            "layout": "IPY_MODEL_f13ce84f37534a26a1ea4a2c35d1660d",
            "placeholder": "​",
            "style": "IPY_MODEL_1ce4236b61ff4606a794569e8e59b0dd",
            "value": "special_tokens_map.json: 100%"
          }
        },
        "683405e75eef4ab7a7c858104de81f3c": {
          "model_module": "@jupyter-widgets/controls",
          "model_name": "FloatProgressModel",
          "model_module_version": "1.5.0",
          "state": {
            "_dom_classes": [],
            "_model_module": "@jupyter-widgets/controls",
            "_model_module_version": "1.5.0",
            "_model_name": "FloatProgressModel",
            "_view_count": null,
            "_view_module": "@jupyter-widgets/controls",
            "_view_module_version": "1.5.0",
            "_view_name": "ProgressView",
            "bar_style": "success",
            "description": "",
            "description_tooltip": null,
            "layout": "IPY_MODEL_b8f7b94c3c2d4cb7895ca790da2828e1",
            "max": 125,
            "min": 0,
            "orientation": "horizontal",
            "style": "IPY_MODEL_00c3d96465a048b491f77cf5d49b3439",
            "value": 125
          }
        },
        "3be962db05d2468b86bcf68b71387292": {
          "model_module": "@jupyter-widgets/controls",
          "model_name": "HTMLModel",
          "model_module_version": "1.5.0",
          "state": {
            "_dom_classes": [],
            "_model_module": "@jupyter-widgets/controls",
            "_model_module_version": "1.5.0",
            "_model_name": "HTMLModel",
            "_view_count": null,
            "_view_module": "@jupyter-widgets/controls",
            "_view_module_version": "1.5.0",
            "_view_name": "HTMLView",
            "description": "",
            "description_tooltip": null,
            "layout": "IPY_MODEL_6d40ad4cd2f24fe8aad2374428b98683",
            "placeholder": "​",
            "style": "IPY_MODEL_2b987e9f40104b60af4849375ae6479f",
            "value": " 125/125 [00:00&lt;00:00, 7.57kB/s]"
          }
        },
        "85d7d5af6852489d882c7fb9efbb6bfb": {
          "model_module": "@jupyter-widgets/base",
          "model_name": "LayoutModel",
          "model_module_version": "1.2.0",
          "state": {
            "_model_module": "@jupyter-widgets/base",
            "_model_module_version": "1.2.0",
            "_model_name": "LayoutModel",
            "_view_count": null,
            "_view_module": "@jupyter-widgets/base",
            "_view_module_version": "1.2.0",
            "_view_name": "LayoutView",
            "align_content": null,
            "align_items": null,
            "align_self": null,
            "border": null,
            "bottom": null,
            "display": null,
            "flex": null,
            "flex_flow": null,
            "grid_area": null,
            "grid_auto_columns": null,
            "grid_auto_flow": null,
            "grid_auto_rows": null,
            "grid_column": null,
            "grid_gap": null,
            "grid_row": null,
            "grid_template_areas": null,
            "grid_template_columns": null,
            "grid_template_rows": null,
            "height": null,
            "justify_content": null,
            "justify_items": null,
            "left": null,
            "margin": null,
            "max_height": null,
            "max_width": null,
            "min_height": null,
            "min_width": null,
            "object_fit": null,
            "object_position": null,
            "order": null,
            "overflow": null,
            "overflow_x": null,
            "overflow_y": null,
            "padding": null,
            "right": null,
            "top": null,
            "visibility": null,
            "width": null
          }
        },
        "f13ce84f37534a26a1ea4a2c35d1660d": {
          "model_module": "@jupyter-widgets/base",
          "model_name": "LayoutModel",
          "model_module_version": "1.2.0",
          "state": {
            "_model_module": "@jupyter-widgets/base",
            "_model_module_version": "1.2.0",
            "_model_name": "LayoutModel",
            "_view_count": null,
            "_view_module": "@jupyter-widgets/base",
            "_view_module_version": "1.2.0",
            "_view_name": "LayoutView",
            "align_content": null,
            "align_items": null,
            "align_self": null,
            "border": null,
            "bottom": null,
            "display": null,
            "flex": null,
            "flex_flow": null,
            "grid_area": null,
            "grid_auto_columns": null,
            "grid_auto_flow": null,
            "grid_auto_rows": null,
            "grid_column": null,
            "grid_gap": null,
            "grid_row": null,
            "grid_template_areas": null,
            "grid_template_columns": null,
            "grid_template_rows": null,
            "height": null,
            "justify_content": null,
            "justify_items": null,
            "left": null,
            "margin": null,
            "max_height": null,
            "max_width": null,
            "min_height": null,
            "min_width": null,
            "object_fit": null,
            "object_position": null,
            "order": null,
            "overflow": null,
            "overflow_x": null,
            "overflow_y": null,
            "padding": null,
            "right": null,
            "top": null,
            "visibility": null,
            "width": null
          }
        },
        "1ce4236b61ff4606a794569e8e59b0dd": {
          "model_module": "@jupyter-widgets/controls",
          "model_name": "DescriptionStyleModel",
          "model_module_version": "1.5.0",
          "state": {
            "_model_module": "@jupyter-widgets/controls",
            "_model_module_version": "1.5.0",
            "_model_name": "DescriptionStyleModel",
            "_view_count": null,
            "_view_module": "@jupyter-widgets/base",
            "_view_module_version": "1.2.0",
            "_view_name": "StyleView",
            "description_width": ""
          }
        },
        "b8f7b94c3c2d4cb7895ca790da2828e1": {
          "model_module": "@jupyter-widgets/base",
          "model_name": "LayoutModel",
          "model_module_version": "1.2.0",
          "state": {
            "_model_module": "@jupyter-widgets/base",
            "_model_module_version": "1.2.0",
            "_model_name": "LayoutModel",
            "_view_count": null,
            "_view_module": "@jupyter-widgets/base",
            "_view_module_version": "1.2.0",
            "_view_name": "LayoutView",
            "align_content": null,
            "align_items": null,
            "align_self": null,
            "border": null,
            "bottom": null,
            "display": null,
            "flex": null,
            "flex_flow": null,
            "grid_area": null,
            "grid_auto_columns": null,
            "grid_auto_flow": null,
            "grid_auto_rows": null,
            "grid_column": null,
            "grid_gap": null,
            "grid_row": null,
            "grid_template_areas": null,
            "grid_template_columns": null,
            "grid_template_rows": null,
            "height": null,
            "justify_content": null,
            "justify_items": null,
            "left": null,
            "margin": null,
            "max_height": null,
            "max_width": null,
            "min_height": null,
            "min_width": null,
            "object_fit": null,
            "object_position": null,
            "order": null,
            "overflow": null,
            "overflow_x": null,
            "overflow_y": null,
            "padding": null,
            "right": null,
            "top": null,
            "visibility": null,
            "width": null
          }
        },
        "00c3d96465a048b491f77cf5d49b3439": {
          "model_module": "@jupyter-widgets/controls",
          "model_name": "ProgressStyleModel",
          "model_module_version": "1.5.0",
          "state": {
            "_model_module": "@jupyter-widgets/controls",
            "_model_module_version": "1.5.0",
            "_model_name": "ProgressStyleModel",
            "_view_count": null,
            "_view_module": "@jupyter-widgets/base",
            "_view_module_version": "1.2.0",
            "_view_name": "StyleView",
            "bar_color": null,
            "description_width": ""
          }
        },
        "6d40ad4cd2f24fe8aad2374428b98683": {
          "model_module": "@jupyter-widgets/base",
          "model_name": "LayoutModel",
          "model_module_version": "1.2.0",
          "state": {
            "_model_module": "@jupyter-widgets/base",
            "_model_module_version": "1.2.0",
            "_model_name": "LayoutModel",
            "_view_count": null,
            "_view_module": "@jupyter-widgets/base",
            "_view_module_version": "1.2.0",
            "_view_name": "LayoutView",
            "align_content": null,
            "align_items": null,
            "align_self": null,
            "border": null,
            "bottom": null,
            "display": null,
            "flex": null,
            "flex_flow": null,
            "grid_area": null,
            "grid_auto_columns": null,
            "grid_auto_flow": null,
            "grid_auto_rows": null,
            "grid_column": null,
            "grid_gap": null,
            "grid_row": null,
            "grid_template_areas": null,
            "grid_template_columns": null,
            "grid_template_rows": null,
            "height": null,
            "justify_content": null,
            "justify_items": null,
            "left": null,
            "margin": null,
            "max_height": null,
            "max_width": null,
            "min_height": null,
            "min_width": null,
            "object_fit": null,
            "object_position": null,
            "order": null,
            "overflow": null,
            "overflow_x": null,
            "overflow_y": null,
            "padding": null,
            "right": null,
            "top": null,
            "visibility": null,
            "width": null
          }
        },
        "2b987e9f40104b60af4849375ae6479f": {
          "model_module": "@jupyter-widgets/controls",
          "model_name": "DescriptionStyleModel",
          "model_module_version": "1.5.0",
          "state": {
            "_model_module": "@jupyter-widgets/controls",
            "_model_module_version": "1.5.0",
            "_model_name": "DescriptionStyleModel",
            "_view_count": null,
            "_view_module": "@jupyter-widgets/base",
            "_view_module_version": "1.2.0",
            "_view_name": "StyleView",
            "description_width": ""
          }
        }
      }
    }
  },
  "cells": [
    {
      "cell_type": "markdown",
      "source": [
        "# YOLOv5 Classification"
      ],
      "metadata": {
        "id": "5GYQX3of4QiW"
      }
    },
    {
      "cell_type": "markdown",
      "source": [
        "###loom video for demonstration:https://www.loom.com/share/5cba805d7ae34860a5c4b976396a314c?sid=bbce8c2e-2b75-4e56-bf7d-16c038e5bbb0"
      ],
      "metadata": {
        "id": "SHg2FabcAJqf"
      }
    },
    {
      "cell_type": "markdown",
      "source": [
        "\n",
        "###Problem Statement \"Ad Creative Recognition with Computer Vision\"\n",
        "\n",
        "\n",
        "Problem Description:\n",
        "In the digital landscape, advertisements play a crucial role in delivering content and engaging users. Your challenge is\n",
        "to develop an advanced computer vision solution capable of identifying whether an image is an advertising creative or\n",
        "not. This project involves detecting visual patterns and features commonly associated with advertisements."
      ],
      "metadata": {
        "id": "msUsoBx9rBkx"
      }
    },
    {
      "cell_type": "markdown",
      "source": [
        "###why roboflow and Hugging face\n",
        "1)Lack of time\n",
        "\n",
        "2)Lack of resources"
      ],
      "metadata": {
        "id": "K5CDonWIqYr1"
      }
    },
    {
      "cell_type": "markdown",
      "source": [
        "# Setup\n",
        "\n",
        "Pull in respective libraries to prepare the notebook environment."
      ],
      "metadata": {
        "id": "-PJ8vlYXbWtN"
      }
    },
    {
      "cell_type": "code",
      "execution_count": null,
      "metadata": {
        "id": "pIM7fOwm8A7l",
        "colab": {
          "base_uri": "https://localhost:8080/"
        },
        "outputId": "bc88630c-6149-4e0d-dcc8-cbb5154b9e46"
      },
      "outputs": [
        {
          "output_type": "stream",
          "name": "stdout",
          "text": [
            "Cloning into 'yolov5'...\n",
            "remote: Enumerating objects: 16491, done.\u001b[K\n",
            "remote: Counting objects: 100% (83/83), done.\u001b[K\n",
            "remote: Compressing objects: 100% (74/74), done.\u001b[K\n",
            "remote: Total 16491 (delta 27), reused 36 (delta 9), pack-reused 16408\u001b[K\n",
            "Receiving objects: 100% (16491/16491), 15.11 MiB | 7.92 MiB/s, done.\n",
            "Resolving deltas: 100% (11292/11292), done.\n",
            "/content/yolov5\n",
            "\u001b[2K     \u001b[90m━━━━━━━━━━━━━━━━━━━━━━━━━━━━━━━━━━━━━━━━\u001b[0m \u001b[32m195.4/195.4 kB\u001b[0m \u001b[31m5.2 MB/s\u001b[0m eta \u001b[36m0:00:00\u001b[0m\n",
            "\u001b[2K     \u001b[90m━━━━━━━━━━━━━━━━━━━━━━━━━━━━━━━━━━━━━━━━\u001b[0m \u001b[32m716.3/716.3 kB\u001b[0m \u001b[31m48.7 MB/s\u001b[0m eta \u001b[36m0:00:00\u001b[0m\n",
            "\u001b[2K     \u001b[90m━━━━━━━━━━━━━━━━━━━━━━━━━━━━━━━━━━━━━━━━\u001b[0m \u001b[32m62.7/62.7 kB\u001b[0m \u001b[31m8.6 MB/s\u001b[0m eta \u001b[36m0:00:00\u001b[0m\n",
            "\u001b[?25hChecking setup...\n"
          ]
        }
      ],
      "source": [
        "!git clone https://github.com/ultralytics/yolov5  # clone\n",
        "%cd yolov5\n",
        "%pip install -qr requirements.txt  # install\n",
        "\n",
        "import torch\n",
        "import utils\n",
        "display = utils.notebook_init()  # checks"
      ]
    },
    {
      "cell_type": "code",
      "source": [
        "!sudo apt install tesseract-ocr\n",
        "!pip install pytesseract"
      ],
      "metadata": {
        "colab": {
          "base_uri": "https://localhost:8080/"
        },
        "id": "v8JtUn9KeEWO",
        "outputId": "3ad39ee4-3ea6-4a53-da60-e9995dbeba3a"
      },
      "execution_count": null,
      "outputs": [
        {
          "output_type": "stream",
          "name": "stdout",
          "text": [
            "Reading package lists... Done\n",
            "Building dependency tree... Done\n",
            "Reading state information... Done\n",
            "tesseract-ocr is already the newest version (4.1.1-2.1build1).\n",
            "0 upgraded, 0 newly installed, 0 to remove and 35 not upgraded.\n",
            "Requirement already satisfied: pytesseract in /usr/local/lib/python3.10/dist-packages (0.3.10)\n",
            "Requirement already satisfied: packaging>=21.3 in /usr/local/lib/python3.10/dist-packages (from pytesseract) (23.2)\n",
            "Requirement already satisfied: Pillow>=8.0.0 in /usr/local/lib/python3.10/dist-packages (from pytesseract) (9.4.0)\n"
          ]
        }
      ]
    },
    {
      "cell_type": "code",
      "source": [
        "import pandas as pd\n",
        "import numpy as np\n",
        "from glob import glob\n",
        "import matplotlib.pyplot as plt\n",
        "from PIL import Image\n",
        "import cv2 as cv2\n",
        "from google.colab.patches import cv2_imshow\n",
        "import re\n",
        "import torch\n",
        "import torch.nn as nn\n",
        "import torch.nn.functional as F"
      ],
      "metadata": {
        "id": "2RBccvt_eEWO"
      },
      "execution_count": null,
      "outputs": []
    },
    {
      "cell_type": "code",
      "source": [
        "import pytesseract\n",
        "import shutil\n",
        "import os\n",
        "import random\n",
        "try:\n",
        " from PIL import Image\n",
        "except ImportError:\n",
        " import Image"
      ],
      "metadata": {
        "id": "HI1297vKeEWO"
      },
      "execution_count": null,
      "outputs": []
    },
    {
      "cell_type": "code",
      "source": [
        "# Ensure we're in the right directory to download our custom dataset\n",
        "import os\n",
        "os.makedirs(\"../datasets/\", exist_ok=True)\n",
        "%cd ../datasets/"
      ],
      "metadata": {
        "id": "6IIgJbP7G6Th",
        "colab": {
          "base_uri": "https://localhost:8080/"
        },
        "outputId": "cde1ebc6-7ba7-47ad-fa1d-2877026e5661"
      },
      "execution_count": null,
      "outputs": [
        {
          "output_type": "stream",
          "name": "stdout",
          "text": [
            "/content/datasets\n"
          ]
        }
      ]
    },
    {
      "cell_type": "code",
      "source": [
        "dir = os.getcwd()\n",
        "print(dir)"
      ],
      "metadata": {
        "colab": {
          "base_uri": "https://localhost:8080/"
        },
        "id": "84hg4rSe3Nnj",
        "outputId": "3b933e0f-2cb8-4777-93f7-cb30d614f887"
      },
      "execution_count": null,
      "outputs": [
        {
          "output_type": "stream",
          "name": "stdout",
          "text": [
            "/content/datasets\n"
          ]
        }
      ]
    },
    {
      "cell_type": "code",
      "source": [
        "# # REPLACE the below with your exported code snippet from above\n",
        "# !pip install roboflow\n",
        "\n",
        "# from roboflow import Roboflow\n",
        "# rf = Roboflow(api_key=\"YOUR API KEY\")\n",
        "# project = rf.workspace(\"yolov5-classification\").project(\"banana-ripeness-classification\")\n",
        "# dataset = project.version(1).download(\"folder\")"
      ],
      "metadata": {
        "id": "He6JwHIlG-W_"
      },
      "execution_count": null,
      "outputs": []
    },
    {
      "cell_type": "code",
      "source": [
        "!pip install roboflow\n",
        "\n",
        "from roboflow import Roboflow\n",
        "rf = Roboflow(api_key=\"QLDBSHjokw2mECFDghWS\")\n",
        "project = rf.workspace(\"adscreative\").project(\"ads-class\")\n",
        "dataset = project.version(2).download(\"folder\")"
      ],
      "metadata": {
        "colab": {
          "base_uri": "https://localhost:8080/"
        },
        "id": "BoOC2qcp0Cgv",
        "outputId": "f4e9fe6b-b6a1-40eb-dca5-fefd5a01516d"
      },
      "execution_count": null,
      "outputs": [
        {
          "output_type": "stream",
          "name": "stdout",
          "text": [
            "Requirement already satisfied: roboflow in /usr/local/lib/python3.10/dist-packages (1.1.21)\n",
            "Requirement already satisfied: certifi==2023.7.22 in /usr/local/lib/python3.10/dist-packages (from roboflow) (2023.7.22)\n",
            "Requirement already satisfied: chardet==4.0.0 in /usr/local/lib/python3.10/dist-packages (from roboflow) (4.0.0)\n",
            "Requirement already satisfied: cycler==0.10.0 in /usr/local/lib/python3.10/dist-packages (from roboflow) (0.10.0)\n",
            "Requirement already satisfied: idna==2.10 in /usr/local/lib/python3.10/dist-packages (from roboflow) (2.10)\n",
            "Requirement already satisfied: kiwisolver>=1.3.1 in /usr/local/lib/python3.10/dist-packages (from roboflow) (1.4.5)\n",
            "Requirement already satisfied: matplotlib in /usr/local/lib/python3.10/dist-packages (from roboflow) (3.7.1)\n",
            "Requirement already satisfied: numpy>=1.18.5 in /usr/local/lib/python3.10/dist-packages (from roboflow) (1.25.2)\n",
            "Requirement already satisfied: opencv-python-headless==4.8.0.74 in /usr/local/lib/python3.10/dist-packages (from roboflow) (4.8.0.74)\n",
            "Requirement already satisfied: Pillow>=7.1.2 in /usr/local/lib/python3.10/dist-packages (from roboflow) (9.4.0)\n",
            "Requirement already satisfied: python-dateutil in /usr/local/lib/python3.10/dist-packages (from roboflow) (2.8.2)\n",
            "Requirement already satisfied: python-dotenv in /usr/local/lib/python3.10/dist-packages (from roboflow) (1.0.1)\n",
            "Requirement already satisfied: requests in /usr/local/lib/python3.10/dist-packages (from roboflow) (2.31.0)\n",
            "Requirement already satisfied: six in /usr/local/lib/python3.10/dist-packages (from roboflow) (1.16.0)\n",
            "Requirement already satisfied: supervision in /usr/local/lib/python3.10/dist-packages (from roboflow) (0.18.0)\n",
            "Requirement already satisfied: urllib3>=1.26.6 in /usr/local/lib/python3.10/dist-packages (from roboflow) (2.0.7)\n",
            "Requirement already satisfied: tqdm>=4.41.0 in /usr/local/lib/python3.10/dist-packages (from roboflow) (4.66.2)\n",
            "Requirement already satisfied: PyYAML>=5.3.1 in /usr/local/lib/python3.10/dist-packages (from roboflow) (6.0.1)\n",
            "Requirement already satisfied: requests-toolbelt in /usr/local/lib/python3.10/dist-packages (from roboflow) (1.0.0)\n",
            "Requirement already satisfied: python-magic in /usr/local/lib/python3.10/dist-packages (from roboflow) (0.4.27)\n",
            "Requirement already satisfied: contourpy>=1.0.1 in /usr/local/lib/python3.10/dist-packages (from matplotlib->roboflow) (1.2.0)\n",
            "Requirement already satisfied: fonttools>=4.22.0 in /usr/local/lib/python3.10/dist-packages (from matplotlib->roboflow) (4.49.0)\n",
            "Requirement already satisfied: packaging>=20.0 in /usr/local/lib/python3.10/dist-packages (from matplotlib->roboflow) (23.2)\n",
            "Requirement already satisfied: pyparsing>=2.3.1 in /usr/local/lib/python3.10/dist-packages (from matplotlib->roboflow) (3.1.1)\n",
            "Requirement already satisfied: charset-normalizer<4,>=2 in /usr/local/lib/python3.10/dist-packages (from requests->roboflow) (3.3.2)\n",
            "Requirement already satisfied: defusedxml<0.8.0,>=0.7.1 in /usr/local/lib/python3.10/dist-packages (from supervision->roboflow) (0.7.1)\n",
            "Requirement already satisfied: scipy<2.0.0,>=1.10.0 in /usr/local/lib/python3.10/dist-packages (from supervision->roboflow) (1.11.4)\n",
            "loading Roboflow workspace...\n",
            "loading Roboflow project...\n"
          ]
        }
      ]
    },
    {
      "cell_type": "code",
      "source": [
        "#Save the dataset name to the environment so we can use it in a system call later\n",
        "dataset_name = dataset.location.split(os.sep)[-1]\n",
        "os.environ[\"DATASET_NAME\"] = dataset_name"
      ],
      "metadata": {
        "id": "wLQbThFICpn4"
      },
      "execution_count": null,
      "outputs": []
    },
    {
      "cell_type": "markdown",
      "source": [
        "### Train On Custom Data 🎉\n",
        "Here, we use the DATASET_NAME environment variable to pass our dataset to the `--data` parameter.\n",
        "\n",
        "Note: we're training for 100 epochs here. We're also starting training from the pretrained weights. Larger datasets will likely benefit from longer training."
      ],
      "metadata": {
        "id": "-5z7Yv42FGrK"
      }
    },
    {
      "cell_type": "code",
      "source": [
        "%cd ../yolov5\n",
        "!python classify/train.py --model yolov5s-cls.pt --data $DATASET_NAME --epochs 100 --img 128 --pretrained weights/yolov5s-cls.pt"
      ],
      "metadata": {
        "id": "MXWTTN2BEaqe",
        "colab": {
          "base_uri": "https://localhost:8080/"
        },
        "outputId": "49d5655b-60da-4f7e-9f90-627378467007"
      },
      "execution_count": null,
      "outputs": [
        {
          "output_type": "stream",
          "name": "stdout",
          "text": [
            "/content/yolov5\n",
            "2024-03-01 08:22:27.281340: E external/local_xla/xla/stream_executor/cuda/cuda_dnn.cc:9261] Unable to register cuDNN factory: Attempting to register factory for plugin cuDNN when one has already been registered\n",
            "2024-03-01 08:22:27.281388: E external/local_xla/xla/stream_executor/cuda/cuda_fft.cc:607] Unable to register cuFFT factory: Attempting to register factory for plugin cuFFT when one has already been registered\n",
            "2024-03-01 08:22:27.282846: E external/local_xla/xla/stream_executor/cuda/cuda_blas.cc:1515] Unable to register cuBLAS factory: Attempting to register factory for plugin cuBLAS when one has already been registered\n",
            "\u001b[34m\u001b[1mclassify/train: \u001b[0mmodel=yolov5s-cls.pt, data=ads-class-2, epochs=100, batch_size=64, imgsz=128, nosave=False, cache=None, device=, workers=8, project=runs/train-cls, name=exp, exist_ok=False, pretrained=weights/yolov5s-cls.pt, optimizer=Adam, lr0=0.001, decay=5e-05, label_smoothing=0.1, cutoff=None, dropout=None, verbose=False, seed=0, local_rank=-1\n",
            "\u001b[34m\u001b[1mgithub: \u001b[0mup to date with https://github.com/ultralytics/yolov5 ✅\n",
            "YOLOv5 🚀 v7.0-287-g574331f9 Python-3.10.12 torch-2.1.0+cu121 CUDA:0 (Tesla T4, 15102MiB)\n",
            "\n",
            "\u001b[34m\u001b[1mTensorBoard: \u001b[0mStart with 'tensorboard --logdir runs/train-cls', view at http://localhost:6006/\n",
            "\u001b[34m\u001b[1malbumentations: \u001b[0mRandomResizedCrop(p=1.0, height=128, width=128, scale=(0.08, 1.0), ratio=(0.75, 1.3333333333333333), interpolation=1), HorizontalFlip(p=0.5), ColorJitter(p=0.5, brightness=[0.6, 1.4], contrast=[0.6, 1.4], saturation=[0.6, 1.4], hue=[0, 0]), Normalize(p=1.0, mean=(0.485, 0.456, 0.406), std=(0.229, 0.224, 0.225), max_pixel_value=255.0), ToTensorV2(always_apply=True, p=1.0, transpose_mask=False)\n",
            "Model summary: 149 layers, 4178885 parameters, 4178885 gradients, 10.5 GFLOPs\n",
            "\u001b[34m\u001b[1moptimizer:\u001b[0m Adam(lr=0.001) with parameter groups 32 weight(decay=0.0), 33 weight(decay=5e-05), 33 bias\n",
            "Image sizes 128 train, 128 test\n",
            "Using 1 dataloader workers\n",
            "Logging results to \u001b[1mruns/train-cls/exp2\u001b[0m\n",
            "Starting yolov5s-cls.pt training on ads-class-2 dataset with 5 classes for 100 epochs...\n",
            "\n",
            "     Epoch   GPU_mem  train_loss   test_loss    top1_acc    top5_acc\n",
            "     1/100    0.833G        1.38        1.24        0.67           1: 100% 13/13 [00:05<00:00,  2.31it/s]\n",
            "     2/100    0.833G        1.02        1.15        0.67           1: 100% 13/13 [00:05<00:00,  2.33it/s]\n",
            "     3/100    0.833G        1.02        1.16        0.67           1: 100% 13/13 [00:04<00:00,  2.65it/s]\n",
            "     4/100    0.833G           1        1.18        0.67           1: 100% 13/13 [00:05<00:00,  2.47it/s]\n",
            "     5/100    0.833G       0.997         1.2        0.67           1: 100% 13/13 [00:05<00:00,  2.44it/s]\n",
            "     6/100    0.833G        1.03        1.21        0.67           1: 100% 13/13 [00:04<00:00,  2.72it/s]\n",
            "     7/100    0.833G       0.986        1.17        0.67           1: 100% 13/13 [00:05<00:00,  2.55it/s]\n",
            "     8/100    0.833G           1        1.18        0.67           1: 100% 13/13 [00:04<00:00,  2.67it/s]\n",
            "     9/100    0.833G           1        1.18        0.67           1: 100% 13/13 [00:05<00:00,  2.31it/s]\n",
            "    10/100    0.833G       0.987        1.21        0.67           1: 100% 13/13 [00:04<00:00,  2.69it/s]\n",
            "    11/100    0.833G       0.998         1.2        0.67           1: 100% 13/13 [00:05<00:00,  2.21it/s]\n",
            "    12/100    0.833G       0.997        1.34        0.67           1: 100% 13/13 [00:04<00:00,  2.68it/s]\n",
            "    13/100    0.833G        1.01        1.21        0.67           1: 100% 13/13 [00:05<00:00,  2.46it/s]\n",
            "    14/100    0.833G       0.993         1.3        0.67           1: 100% 13/13 [00:05<00:00,  2.37it/s]\n",
            "    15/100    0.833G       0.983        1.21       0.643           1: 100% 13/13 [00:04<00:00,  2.60it/s]\n",
            "    16/100    0.833G        1.02        1.24       0.652           1: 100% 13/13 [00:05<00:00,  2.22it/s]\n",
            "    17/100    0.833G        1.01        1.42        0.67           1: 100% 13/13 [00:04<00:00,  2.68it/s]\n",
            "    18/100    0.833G       0.988         1.2        0.67           1: 100% 13/13 [00:05<00:00,  2.25it/s]\n",
            "    19/100    0.833G        0.99         1.2        0.67           1: 100% 13/13 [00:04<00:00,  2.70it/s]\n",
            "    20/100    0.833G       0.997        1.22        0.67           1: 100% 13/13 [00:05<00:00,  2.23it/s]\n",
            "    21/100    0.833G       0.988         1.2        0.67           1: 100% 13/13 [00:04<00:00,  2.71it/s]\n",
            "    22/100    0.833G       0.998        1.17        0.67           1: 100% 13/13 [00:05<00:00,  2.48it/s]\n",
            "    23/100    0.833G       0.996         1.2        0.67           1: 100% 13/13 [00:05<00:00,  2.46it/s]\n",
            "    24/100    0.833G       0.987        1.17        0.67           1: 100% 13/13 [00:04<00:00,  2.62it/s]\n",
            "    25/100    0.833G       0.973        1.17        0.67           1: 100% 13/13 [00:05<00:00,  2.23it/s]\n",
            "    26/100    0.833G       0.999        1.18        0.67           1: 100% 13/13 [00:04<00:00,  2.72it/s]\n",
            "    27/100    0.833G       0.993        1.18        0.67           1: 100% 13/13 [00:05<00:00,  2.20it/s]\n",
            "    28/100    0.833G       0.961        1.19       0.661           1: 100% 13/13 [00:04<00:00,  2.72it/s]\n",
            "    29/100    0.833G       0.992         1.2        0.67           1: 100% 13/13 [00:05<00:00,  2.25it/s]\n",
            "    30/100    0.833G       0.978        1.19        0.67           1: 100% 13/13 [00:04<00:00,  2.65it/s]\n",
            "    31/100    0.833G       0.979        1.18        0.67           1: 100% 13/13 [00:05<00:00,  2.56it/s]\n",
            "    32/100    0.833G       0.994        1.19        0.67           1: 100% 13/13 [00:05<00:00,  2.38it/s]\n",
            "    33/100    0.833G       0.986        1.33       0.583           1: 100% 13/13 [00:04<00:00,  2.68it/s]\n",
            "    34/100    0.833G       0.982        1.18        0.67           1: 100% 13/13 [00:05<00:00,  2.24it/s]\n",
            "    35/100    0.833G       0.991        1.16        0.67           1: 100% 13/13 [00:04<00:00,  2.62it/s]\n",
            "    36/100    0.833G       0.971         1.2       0.652           1: 100% 13/13 [00:05<00:00,  2.29it/s]\n",
            "    37/100    0.833G       0.979        1.18       0.661           1: 100% 13/13 [00:05<00:00,  2.42it/s]\n",
            "    38/100    0.833G       0.991        1.17        0.67           1: 100% 13/13 [00:05<00:00,  2.21it/s]\n",
            "    39/100    0.833G        1.02        1.21       0.652           1: 100% 13/13 [00:04<00:00,  2.75it/s]\n",
            "    40/100    0.833G       0.959         1.2       0.661           1: 100% 13/13 [00:05<00:00,  2.47it/s]\n",
            "    41/100    0.833G       0.975        1.19        0.67           1: 100% 13/13 [00:05<00:00,  2.41it/s]\n",
            "    42/100    0.833G        1.01        1.24       0.652           1: 100% 13/13 [00:04<00:00,  2.65it/s]\n",
            "    43/100    0.833G       0.973        1.17        0.67           1: 100% 13/13 [00:05<00:00,  2.26it/s]\n",
            "    44/100    0.833G        0.97         1.2       0.661           1: 100% 13/13 [00:04<00:00,  2.61it/s]\n",
            "    45/100    0.833G       0.965        1.19       0.661           1: 100% 13/13 [00:05<00:00,  2.23it/s]\n",
            "    46/100    0.833G       0.977         1.2       0.661           1: 100% 13/13 [00:04<00:00,  2.66it/s]\n",
            "    47/100    0.833G       0.976         1.2       0.661           1: 100% 13/13 [00:05<00:00,  2.23it/s]\n",
            "    48/100    0.833G       0.984        1.19        0.67           1: 100% 13/13 [00:04<00:00,  2.65it/s]\n",
            "    49/100    0.833G       0.975         1.2       0.661           1: 100% 13/13 [00:04<00:00,  2.62it/s]\n",
            "    50/100    0.833G       0.992         1.2       0.652           1: 100% 13/13 [00:05<00:00,  2.23it/s]\n",
            "    51/100    0.833G        0.97        1.18        0.67           1: 100% 13/13 [00:04<00:00,  2.63it/s]\n",
            "    52/100    0.833G       0.976        1.16        0.67           1: 100% 13/13 [00:05<00:00,  2.25it/s]\n",
            "    53/100    0.833G       0.977        1.18        0.67           1: 100% 13/13 [00:04<00:00,  2.65it/s]\n",
            "    54/100    0.833G       0.967        1.17        0.67           1: 100% 13/13 [00:05<00:00,  2.19it/s]\n",
            "    55/100    0.833G       0.976         1.2       0.661           1: 100% 13/13 [00:04<00:00,  2.67it/s]\n",
            "    56/100    0.833G       0.977        1.18        0.67           1: 100% 13/13 [00:05<00:00,  2.25it/s]\n",
            "    57/100    0.833G       0.963        1.18       0.661           1: 100% 13/13 [00:04<00:00,  2.66it/s]\n",
            "    58/100    0.833G       0.997        1.19       0.661           1: 100% 13/13 [00:05<00:00,  2.54it/s]\n",
            "    59/100    0.833G        0.96        1.19       0.661           1: 100% 13/13 [00:05<00:00,  2.25it/s]\n",
            "    60/100    0.833G       0.963        1.19       0.661           1: 100% 13/13 [00:05<00:00,  2.55it/s]\n",
            "    61/100    0.833G       0.981        1.18        0.67           1: 100% 13/13 [00:05<00:00,  2.18it/s]\n",
            "    62/100    0.833G       0.969        1.18       0.661           1: 100% 13/13 [00:04<00:00,  2.67it/s]\n",
            "    63/100    0.833G       0.962        1.18       0.661           1: 100% 13/13 [00:05<00:00,  2.19it/s]\n",
            "    64/100    0.833G       0.983        1.18       0.661           1: 100% 13/13 [00:04<00:00,  2.66it/s]\n",
            "    65/100    0.833G       0.952        1.18       0.661           1: 100% 13/13 [00:05<00:00,  2.25it/s]\n",
            "    66/100    0.833G       0.976        1.17       0.661           1: 100% 13/13 [00:05<00:00,  2.58it/s]\n",
            "    67/100    0.833G       0.957        1.16       0.661           1: 100% 13/13 [00:04<00:00,  2.61it/s]\n",
            "    68/100    0.833G       0.976        1.15        0.67           1: 100% 13/13 [00:05<00:00,  2.28it/s]\n",
            "    69/100    0.833G       0.976        1.18       0.652           1: 100% 13/13 [00:04<00:00,  2.68it/s]\n",
            "    70/100    0.833G       0.955        1.19       0.652           1: 100% 13/13 [00:05<00:00,  2.20it/s]\n",
            "    71/100    0.833G       0.957         1.2       0.661           1: 100% 13/13 [00:04<00:00,  2.66it/s]\n",
            "    72/100    0.833G       0.958        1.21       0.652           1: 100% 13/13 [00:05<00:00,  2.20it/s]\n",
            "    73/100    0.833G       0.958        1.19        0.67           1: 100% 13/13 [00:04<00:00,  2.62it/s]\n",
            "    74/100    0.833G       0.966         1.2       0.661           1: 100% 13/13 [00:05<00:00,  2.23it/s]\n",
            "    75/100    0.833G       0.948        1.19       0.652           1: 100% 13/13 [00:04<00:00,  2.66it/s]\n",
            "    76/100    0.833G       0.971        1.17        0.67           1: 100% 13/13 [00:05<00:00,  2.58it/s]\n",
            "    77/100    0.833G        0.96        1.19       0.661           1: 100% 13/13 [00:05<00:00,  2.37it/s]\n",
            "    78/100    0.833G       0.963        1.17       0.661           1: 100% 13/13 [00:04<00:00,  2.61it/s]\n",
            "    79/100    0.833G       0.951        1.18       0.661           1: 100% 13/13 [00:05<00:00,  2.22it/s]\n",
            "    80/100    0.833G       0.951        1.17       0.652           1: 100% 13/13 [00:05<00:00,  2.60it/s]\n",
            "    81/100    0.833G       0.965        1.18       0.652           1: 100% 13/13 [00:05<00:00,  2.25it/s]\n",
            "    82/100    0.833G       0.961        1.18       0.661           1: 100% 13/13 [00:05<00:00,  2.58it/s]\n",
            "    83/100    0.833G        0.95         1.2       0.661           1: 100% 13/13 [00:05<00:00,  2.23it/s]\n",
            "    84/100    0.833G        0.94        1.23       0.626           1: 100% 13/13 [00:04<00:00,  2.66it/s]\n",
            "    85/100    0.833G       0.962        1.22       0.626           1: 100% 13/13 [00:04<00:00,  2.73it/s]\n",
            "    86/100    0.833G       0.944        1.19       0.652           1: 100% 13/13 [00:05<00:00,  2.24it/s]\n",
            "    87/100    0.833G       0.953         1.2        0.67           1: 100% 13/13 [00:04<00:00,  2.61it/s]\n",
            "    88/100    0.833G       0.936        1.19       0.661           1: 100% 13/13 [00:05<00:00,  2.26it/s]\n",
            "    89/100    0.833G       0.955         1.2       0.661           1: 100% 13/13 [00:04<00:00,  2.62it/s]\n",
            "    90/100    0.833G       0.939         1.2       0.652           1: 100% 13/13 [00:05<00:00,  2.22it/s]\n",
            "    91/100    0.833G       0.942         1.2       0.652           1: 100% 13/13 [00:04<00:00,  2.69it/s]\n",
            "    92/100    0.833G       0.931         1.2        0.67           1: 100% 13/13 [00:05<00:00,  2.35it/s]\n",
            "    93/100    0.833G       0.939         1.2       0.652           1: 100% 13/13 [00:05<00:00,  2.50it/s]\n",
            "    94/100    0.833G       0.963        1.21       0.643           1: 100% 13/13 [00:04<00:00,  2.65it/s]\n",
            "    95/100    0.833G       0.936        1.22       0.635           1: 100% 13/13 [00:05<00:00,  2.22it/s]\n",
            "    96/100    0.833G       0.938         1.2       0.661           1: 100% 13/13 [00:04<00:00,  2.66it/s]\n",
            "    97/100    0.833G       0.928        1.21       0.643           1: 100% 13/13 [00:05<00:00,  2.24it/s]\n",
            "    98/100    0.833G       0.948         1.2       0.652           1: 100% 13/13 [00:04<00:00,  2.61it/s]\n",
            "    99/100    0.833G       0.925        1.19       0.661           1: 100% 13/13 [00:05<00:00,  2.21it/s]\n",
            "   100/100    0.833G       0.918        1.19       0.652           1: 100% 13/13 [00:04<00:00,  2.62it/s]\n",
            "\n",
            "Training complete (0.154 hours)\n",
            "Results saved to \u001b[1mruns/train-cls/exp2\u001b[0m\n",
            "Predict:         python classify/predict.py --weights runs/train-cls/exp2/weights/best.pt --source im.jpg\n",
            "Validate:        python classify/val.py --weights runs/train-cls/exp2/weights/best.pt --data /content/datasets/ads-class-2\n",
            "Export:          python export.py --weights runs/train-cls/exp2/weights/best.pt --include onnx\n",
            "PyTorch Hub:     model = torch.hub.load('ultralytics/yolov5', 'custom', 'runs/train-cls/exp2/weights/best.pt')\n",
            "Visualize:       https://netron.app\n",
            "\n"
          ]
        }
      ]
    },
    {
      "cell_type": "markdown",
      "source": [
        "### Validate Your Custom Model\n",
        "\n",
        "Repeat step 2 from above to test and validate your custom model."
      ],
      "metadata": {
        "id": "HHUFGeLbGd98"
      }
    },
    {
      "cell_type": "code",
      "source": [
        "!python classify/val.py --weights runs/train-cls/exp/weights/best.pt --data ../datasets/$DATASET_NAME"
      ],
      "metadata": {
        "id": "DIV7ydyKGZFL",
        "colab": {
          "base_uri": "https://localhost:8080/"
        },
        "outputId": "aa85721c-9902-48cf-a2fb-3ed0413bd121"
      },
      "execution_count": null,
      "outputs": [
        {
          "output_type": "stream",
          "name": "stdout",
          "text": [
            "\u001b[34m\u001b[1mclassify/val: \u001b[0mdata=../datasets/ads-class-2, weights=['runs/train-cls/exp/weights/best.pt'], batch_size=128, imgsz=224, device=, workers=8, verbose=True, project=runs/val-cls, name=exp, exist_ok=False, half=False, dnn=False\n",
            "YOLOv5 🚀 v7.0-287-g574331f9 Python-3.10.12 torch-2.1.0+cu121 CUDA:0 (Tesla T4, 15102MiB)\n",
            "\n",
            "Fusing layers... \n",
            "Model summary: 117 layers, 4173093 parameters, 0 gradients, 10.4 GFLOPs\n",
            "testing: 100% 1/1 [00:01<00:00,  1.95s/it]\n",
            "                   Class      Images    top1_acc    top5_acc\n",
            "                     all         115        0.67           1\n",
            "                      ad          77           1           1\n",
            "                   ad ad          25           0           1\n",
            "                ad ad ad           4           0           1\n",
            "               ad non-ad           9           0           1\n",
            "                  non-ad           0         nan         nan\n",
            "Speed: 0.1ms pre-process, 3.3ms inference, 0.4ms post-process per image at shape (1, 3, 224, 224)\n",
            "Results saved to \u001b[1mruns/val-cls/exp\u001b[0m\n"
          ]
        }
      ]
    },
    {
      "cell_type": "markdown",
      "source": [
        "the final working one\n"
      ],
      "metadata": {
        "id": "Fh50b2BeYW2v"
      }
    },
    {
      "cell_type": "code",
      "source": [
        "import subprocess\n",
        "import os\n",
        "\n",
        "#the yolo direc\n",
        "%cd /content/yolov5\n",
        "\n",
        "# # Define the command\n",
        "# image_path = '/content/Screenshot 2024-02-03 at 6.15.17 PM.png'\n",
        "# # weights_path = 'runs/train-cls/exp/weights/best.pt'\n",
        "# command = f\"python classify/predict.py --weights runs/train-cls/exp/weights/best.pt  --source /content/Screenshot 2024-02-03 at 6.15.17 PM.png\"\n",
        "\n",
        "image_path = '/content/WhatsApp Image 2024-02-05 at 6.33.57 PM.jpeg'\n",
        "weights_path = 'runs/train-cls/exp/weights/best.pt'\n",
        "command = f\"python classify/predict.py --weights {weights_path} --source '{image_path}'\"\n",
        "\n",
        "\n",
        "\n",
        "result = subprocess.run(command, shell=True, capture_output=True, text=True)\n",
        "\n",
        "\n",
        "print(\"Output:\")\n",
        "print(result.stdout)\n",
        "final_image = float(result.stdout)\n",
        "\n",
        "\n"
      ],
      "metadata": {
        "colab": {
          "base_uri": "https://localhost:8080/"
        },
        "id": "P_HQtxOMW6FE",
        "outputId": "85c0face-e48f-42be-bd43-385bd14557ff"
      },
      "execution_count": null,
      "outputs": [
        {
          "output_type": "stream",
          "name": "stdout",
          "text": [
            "/content/yolov5\n",
            "Output:\n",
            "0\n",
            "\n"
          ]
        }
      ]
    },
    {
      "cell_type": "markdown",
      "source": [
        "using the pytessaract library"
      ],
      "metadata": {
        "id": "OElXSsoAg6xt"
      }
    },
    {
      "cell_type": "code",
      "source": [
        "image = cv2.imread('/content/test1.png')"
      ],
      "metadata": {
        "id": "WC8c7VD4A6h8"
      },
      "execution_count": null,
      "outputs": []
    },
    {
      "cell_type": "code",
      "source": [
        "cv2_imshow(image)"
      ],
      "metadata": {
        "colab": {
          "base_uri": "https://localhost:8080/",
          "height": 579
        },
        "id": "ZidQYicColsU",
        "outputId": "616b3604-1d5d-4f4a-bb89-1f39072a1a4e"
      },
      "execution_count": null,
      "outputs": [
        {
          "output_type": "display_data",
          "data": {
            "text/plain": [
              "<PIL.Image.Image image mode=RGB size=552x562>"
            ],
            "image/png": "[encoded data removed]"
          },
          "metadata": {}
        }
      ]
    },
    {
      "cell_type": "code",
      "source": [
        "image_path_in_colab='/content/test1.png'\n",
        "extracted_info = pytesseract.image_to_string(Image.open(image_path_in_colab))\n",
        "print(extracted_info)"
      ],
      "metadata": {
        "colab": {
          "base_uri": "https://localhost:8080/"
        },
        "id": "9BisZIYVBthb",
        "outputId": "43889673-c1fc-41f4-df83-077d0825a6ed"
      },
      "execution_count": null,
      "outputs": [
        {
          "output_type": "stream",
          "name": "stdout",
          "text": [
            "'c) ©, Running shoes\n",
            "\n",
            "Performance footwear by Elevar |\n",
            "Engineered for comfort.\n",
            "\n",
            "in.elevarsports.com\n",
            "\n",
            " \n",
            "\f\n"
          ]
        }
      ]
    },
    {
      "cell_type": "markdown",
      "source": [
        "model: https://huggingface.co/ViditRaj/BERT_LATEST_Ads_Classifier?text=I+like+you.+I+love+you"
      ],
      "metadata": {
        "id": "0Ul_4QtEg12D"
      }
    },
    {
      "cell_type": "code",
      "source": [
        "# Use a pipeline as a high-level helper\n",
        "from transformers import pipeline\n",
        "\n",
        "pipe = pipeline(\"text-classification\", model=\"ViditRaj/BERT_LATEST_Ads_Classifier\")"
      ],
      "metadata": {
        "colab": {
          "base_uri": "https://localhost:8080/",
          "height": 246,
          "referenced_widgets": [
            "3068bd0792a94e73b0e10435d58c5f46",
            "f1b4c6598f4e48dfa59fea6203c44a75",
            "680752698de8487abb50d1c00c615888",
            "f419052e26514963916db2185ba417a5",
            "87a04b633f054057929d5df9fa9dc389",
            "0ce1aa101a3c48ed89a93fbd78b48b55",
            "4f56976c25d344d8a87bf1ca3c2ffc0b",
            "b853e6117e25458a8d8e31adfdf89260",
            "68315ad3d1304f429e66bf2b1f6dc6e2",
            "3590cfa96a314b34814b4b8dc414b6aa",
            "824aeabca4d141f0acda0ca93985dc9d",
            "b17fab30fd574514b30c5b2f9b983bdd",
            "ff42db2e708d401c9e9688e2ccd8210a",
            "409fc93e7d6b40d7bf55dc1c5ac67724",
            "d8bca29829bc44a888282ba7460c4141",
            "e50d8e4cc5f7411497e04dd2e5dd5d09",
            "8c1a11dbe9f542dd924906778ae49f38",
            "1c23c8d6ddf143c9a1acc23e9a814030",
            "d756033bf3cf4a148bc88af50428a3e6",
            "f86dfe44d4c24b209912c3875ba9d3ee",
            "bc5e0955d88d4236a6d336866af1e0d9",
            "73be885a00c644d0803bd8a169194c02",
            "92da2b5bc8b0464c9d1e9b51cc445f28",
            "fb3edfcf40034070968ad7c16ea5c6f4",
            "349215b84a064a7b8e0596bcd4eccf0e",
            "7f4e2d691fd74365822e66b1b0edb4d5",
            "3af5197c3d244fb4a81e5c9019fea314",
            "5abc5c5d62ae46bf825ee26495f64133",
            "6d5f511922054a3dad84ba6d7dda5fd1",
            "b9b126e700244d7e8960832759e7d031",
            "843e7c1525fb43ff875ffb5110d73e5f",
            "94c32e7de6cb4f6b92507ff10d27aed0",
            "f3610241999f447d8c3515982046b41b",
            "22d1c991a7a24deeb9d204a3be4080be",
            "6832b37da1894d89bd76d1a1d69b5224",
            "0d21d1bc17f5482ea79f8eb816559ca3",
            "b32398e749b747949805e759074bedd1",
            "f33cf0e1756047eaa24c02ea704ef85b",
            "cf85c49e086f4f8b9a8b6d235253f022",
            "72e795bf57ae4f089d0dc1ee38d6d24a",
            "07d98e9104aa455e893fc0aa37aed127",
            "c9aee75a7f9344d3afa1f228f4d12deb",
            "d12b096954174cc38b224c8e83e3ee7a",
            "a21cbc73c4874642b9e3055083d8138e",
            "1ad5d22aaff447f3b8fda507d8151208",
            "9edef3c5099049bdb82840c45fa64095",
            "683405e75eef4ab7a7c858104de81f3c",
            "3be962db05d2468b86bcf68b71387292",
            "85d7d5af6852489d882c7fb9efbb6bfb",
            "f13ce84f37534a26a1ea4a2c35d1660d",
            "1ce4236b61ff4606a794569e8e59b0dd",
            "b8f7b94c3c2d4cb7895ca790da2828e1",
            "00c3d96465a048b491f77cf5d49b3439",
            "6d40ad4cd2f24fe8aad2374428b98683",
            "2b987e9f40104b60af4849375ae6479f"
          ]
        },
        "id": "Xt1rbtMFolz2",
        "outputId": "dae94b0d-b291-41d3-d938-a9f7d9415680"
      },
      "execution_count": null,
      "outputs": [
        {
          "output_type": "display_data",
          "data": {
            "text/plain": [
              "config.json:   0%|          | 0.00/798 [00:00<?, ?B/s]"
            ],
            "application/vnd.jupyter.widget-view+json": {
              "version_major": 2,
              "version_minor": 0,
              "model_id": "3068bd0792a94e73b0e10435d58c5f46"
            }
          },
          "metadata": {}
        },
        {
          "output_type": "display_data",
          "data": {
            "text/plain": [
              "tf_model.h5:   0%|          | 0.00/438M [00:00<?, ?B/s]"
            ],
            "application/vnd.jupyter.widget-view+json": {
              "version_major": 2,
              "version_minor": 0,
              "model_id": "b17fab30fd574514b30c5b2f9b983bdd"
            }
          },
          "metadata": {}
        },
        {
          "output_type": "stream",
          "name": "stderr",
          "text": [
            "All model checkpoint layers were used when initializing TFBertForSequenceClassification.\n",
            "\n",
            "All the layers of TFBertForSequenceClassification were initialized from the model checkpoint at ViditRaj/BERT_LATEST_Ads_Classifier.\n",
            "If your task is similar to the task the model of the checkpoint was trained on, you can already use TFBertForSequenceClassification for predictions without further training.\n"
          ]
        },
        {
          "output_type": "display_data",
          "data": {
            "text/plain": [
              "tokenizer_config.json:   0%|          | 0.00/400 [00:00<?, ?B/s]"
            ],
            "application/vnd.jupyter.widget-view+json": {
              "version_major": 2,
              "version_minor": 0,
              "model_id": "92da2b5bc8b0464c9d1e9b51cc445f28"
            }
          },
          "metadata": {}
        },
        {
          "output_type": "display_data",
          "data": {
            "text/plain": [
              "vocab.txt:   0%|          | 0.00/232k [00:00<?, ?B/s]"
            ],
            "application/vnd.jupyter.widget-view+json": {
              "version_major": 2,
              "version_minor": 0,
              "model_id": "22d1c991a7a24deeb9d204a3be4080be"
            }
          },
          "metadata": {}
        },
        {
          "output_type": "display_data",
          "data": {
            "text/plain": [
              "special_tokens_map.json:   0%|          | 0.00/125 [00:00<?, ?B/s]"
            ],
            "application/vnd.jupyter.widget-view+json": {
              "version_major": 2,
              "version_minor": 0,
              "model_id": "1ad5d22aaff447f3b8fda507d8151208"
            }
          },
          "metadata": {}
        }
      ]
    },
    {
      "cell_type": "code",
      "source": [
        "extracted_info = 'i love my wife she is very beatiful'"
      ],
      "metadata": {
        "id": "BhfDI590nH7P"
      },
      "execution_count": null,
      "outputs": []
    },
    {
      "cell_type": "code",
      "source": [
        "result = pipe(extracted_info)\n",
        "res = result[0]['label']\n",
        "if res == 'NON-ADVERTISEMENT':\n",
        "    final_text = 0\n",
        "else:\n",
        "    final_text = 0.5\n",
        "\n",
        "print(final_text)"
      ],
      "metadata": {
        "colab": {
          "base_uri": "https://localhost:8080/"
        },
        "id": "6u9V4m5Um6Fi",
        "outputId": "489f39b6-a713-4898-bb40-4a0d859aa176"
      },
      "execution_count": null,
      "outputs": [
        {
          "output_type": "stream",
          "name": "stdout",
          "text": [
            "0\n"
          ]
        }
      ]
    },
    {
      "cell_type": "code",
      "source": [
        "final_text"
      ],
      "metadata": {
        "colab": {
          "base_uri": "https://localhost:8080/"
        },
        "id": "WBJidtL-nkXY",
        "outputId": "12310c54-15cb-4830-990b-884a95995bbc"
      },
      "execution_count": null,
      "outputs": [
        {
          "output_type": "execute_result",
          "data": {
            "text/plain": [
              "0.5"
            ]
          },
          "metadata": {},
          "execution_count": 114
        }
      ]
    },
    {
      "cell_type": "code",
      "source": [
        "final_image"
      ],
      "metadata": {
        "colab": {
          "base_uri": "https://localhost:8080/"
        },
        "id": "woe38goHnk6D",
        "outputId": "3d05df21-b41e-407a-e666-5519b1976799"
      },
      "execution_count": null,
      "outputs": [
        {
          "output_type": "execute_result",
          "data": {
            "text/plain": [
              "0.37"
            ]
          },
          "metadata": {},
          "execution_count": 115
        }
      ]
    },
    {
      "cell_type": "code",
      "source": [
        "final = float(final_text)+float(final_image)\n",
        "# print(final)\n",
        "if final>0.7:\n",
        "  print('ad')\n",
        "else:\n",
        "  print('non-ad')\n"
      ],
      "metadata": {
        "colab": {
          "base_uri": "https://localhost:8080/"
        },
        "id": "8MAtR37QHH8m",
        "outputId": "dce6a09c-5dab-4167-dc4b-ffd2ef499399"
      },
      "execution_count": null,
      "outputs": [
        {
          "output_type": "stream",
          "name": "stdout",
          "text": [
            "ad\n"
          ]
        }
      ]
    },
    {
      "cell_type": "markdown",
      "source": [
        "###combining all of it into one"
      ],
      "metadata": {
        "id": "mYkBQfJZkGhk"
      }
    },
    {
      "cell_type": "code",
      "source": [
        "import subprocess\n",
        "import os\n",
        "\n",
        "#the yolo direc\n",
        "%cd /content/yolov5\n",
        "\n",
        "# # Define the command\n",
        "# image_path = '/content/Screenshot 2024-02-03 at 6.15.17 PM.png'\n",
        "# # weights_path = 'runs/train-cls/exp/weights/best.pt'\n",
        "# command = f\"python classify/predict.py --weights runs/train-cls/exp/weights/best.pt  --source /content/Screenshot 2024-02-03 at 6.15.17 PM.png\"\n",
        "\n",
        "image_path = '/content/test3.jpeg'\n",
        "weights_path = 'runs/train-cls/exp/weights/best.pt'\n",
        "command = f\"python classify/predict.py --weights {weights_path} --source '{image_path}'\"\n",
        "\n",
        "\n",
        "\n",
        "result = subprocess.run(command, shell=True, capture_output=True, text=True)\n",
        "final_image = float(result.stdout)\n",
        "# print(final_image)\n",
        "\n",
        "\n",
        "image_path_in_colab=image_path\n",
        "extracted_info = pytesseract.image_to_string(Image.open(image_path_in_colab))\n",
        "\n",
        "result = pipe(extracted_info)\n",
        "res = result[0]['label']\n",
        "if res == 'NON-ADVERTISEMENT':\n",
        "    final_text = 0\n",
        "else:\n",
        "    final_text = 1\n",
        "\n",
        "# print(final_text)\n",
        "# print(final_text)\n",
        "\n",
        "final = float(final_text)+float(final_image)\n",
        "# print(final)\n",
        "if final>0.7:\n",
        "  print('ad')\n",
        "else:\n",
        "  print('non-ad')\n"
      ],
      "metadata": {
        "colab": {
          "base_uri": "https://localhost:8080/"
        },
        "id": "MHWns0f8kCmZ",
        "outputId": "242f7923-0d8d-468b-a853-073e59d59310"
      },
      "execution_count": null,
      "outputs": [
        {
          "output_type": "stream",
          "name": "stdout",
          "text": [
            "/content/yolov5\n",
            "non-ad\n"
          ]
        }
      ]
    }
  ]
}